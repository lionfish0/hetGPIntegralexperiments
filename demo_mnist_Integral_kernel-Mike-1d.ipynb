{
 "cells": [
  {
   "cell_type": "code",
   "execution_count": 1,
   "metadata": {},
   "outputs": [],
   "source": [
    "import sys\n",
    "import climin\n",
    "from functools import partial\n",
    "import warnings\n",
    "import os\n",
    "sys.path.append('..')\n",
    "\n",
    "import numpy as np\n",
    "from scipy.stats import multinomial\n",
    "from scipy.linalg.blas import dtrmm\n",
    "\n",
    "import GPy\n",
    "from GPy.util import choleskies\n",
    "from GPy.core.parameterization.param import Param\n",
    "from GPy.kern import Coregionalize\n",
    "from GPy.likelihoods import Likelihood\n",
    "from GPy.util import linalg\n",
    "\n",
    "from likelihoods.bernoulli import Bernoulli\n",
    "from likelihoods.gaussian import Gaussian\n",
    "from likelihoods.categorical import Categorical\n",
    "from likelihoods.hetgaussian import HetGaussian\n",
    "from likelihoods.beta import Beta\n",
    "from likelihoods.gamma import Gamma\n",
    "from likelihoods.exponential import Exponential\n",
    "\n",
    "from hetmogp.util import draw_mini_slices\n",
    "from hetmogp.het_likelihood import HetLikelihood\n",
    "from hetmogp.model import HetMOGP\n",
    "from hetmogp import multi_output\n",
    "from hetmogp import util\n",
    "from hetmogp.util import vem_algorithm as VEM\n",
    "\n",
    "import matplotlib.pyplot as plt\n",
    "from matplotlib.pyplot import gca\n",
    "from matplotlib import rc, font_manager\n",
    "from matplotlib import rcParams\n",
    "#from matplotlib2tikz import save as tikz_save\n",
    "\n",
    "warnings.filterwarnings(\"ignore\")\n",
    "os.environ['PATH'] = os.environ['PATH'] + ':/usr/texbin'\n",
    "\n",
    "from sklearn.model_selection import train_test_split\n",
    "from sklearn.metrics import accuracy_score\n"
   ]
  },
  {
   "cell_type": "code",
   "execution_count": 2,
   "metadata": {
    "scrolled": true
   },
   "outputs": [],
   "source": [
    "M = 10  # number of inducing points\n",
    "Q = 1  # number of latent functions\n",
    "\n",
    "# Heterogeneous Likelihood Definition\n",
    "# likelihoods_list = [Gaussian(sigma=1.), Bernoulli()] # Real + Binary\n",
    "#likelihoods_list = [Bernoulli(), Bernoulli()] # Real + Binary\n",
    "likelihoods_list = [Gaussian(sigma=1.),Gaussian(sigma=1.)]\n",
    "\n",
    "likelihood = HetLikelihood(likelihoods_list)\n",
    "Y_metadata = likelihood.generate_metadata()\n",
    "\n",
    "D = likelihood.num_output_functions(Y_metadata)\n",
    "\n",
    "W_list, _ = multi_output.random_W_kappas(Q, D, rank=1, experiment=True)\n",
    "\n"
   ]
  },
  {
   "cell_type": "code",
   "execution_count": 118,
   "metadata": {},
   "outputs": [],
   "source": [
    "N = 60\n",
    "X1 = np.c_[np.arange(1,N+1),np.arange(0,N)]\n",
    "Y1 = np.zeros(len(X1))\n",
    "v = 0\n",
    "grad = 0\n",
    "for i in range(len(Y1)):\n",
    "    grad+=np.random.randn()*0.1\n",
    "    v+=grad\n",
    "    if np.random.rand()<0.2: grad = np.random.randn()\n",
    "    Y1[i]=v\n",
    "res = 10\n",
    "X2 = np.c_[np.arange(res,N+res,res),np.arange(0,N,res)]\n",
    "Y2 = np.sum(Y1.reshape([int(N/res),res]),1)\n",
    "correct = Y1.copy()\n",
    "Y1*=3.3 #some scaling we don't know\n",
    "Y1+=np.random.randn(len(Y1))"
   ]
  },
  {
   "cell_type": "code",
   "execution_count": 119,
   "metadata": {},
   "outputs": [
    {
     "name": "stdout",
     "output_type": "stream",
     "text": [
      "X1.shape: (60, 2)\n",
      "Y1.shape: (60,)\n",
      "X2.shape: (6, 2)\n",
      "Y2.shape: (6,)\n"
     ]
    }
   ],
   "source": [
    "print('X1.shape:', X1.shape)\n",
    "print('Y1.shape:', Y1.shape)\n",
    "print('X2.shape:', X2.shape)\n",
    "print('Y2.shape:', Y2.shape)"
   ]
  },
  {
   "cell_type": "code",
   "execution_count": 120,
   "metadata": {},
   "outputs": [],
   "source": [
    "x1_new = np.zeros((X1.shape[0], X1.shape[1]+1))\n",
    "x1_new[:,:-1] = X1.copy()"
   ]
  },
  {
   "cell_type": "code",
   "execution_count": 121,
   "metadata": {},
   "outputs": [],
   "source": [
    "x2_new = np.zeros((X2.shape[0], X2.shape[1]+1))\n",
    "x2_new[:,:-1] = X2.copy()"
   ]
  },
  {
   "cell_type": "code",
   "execution_count": 122,
   "metadata": {},
   "outputs": [],
   "source": [
    "X = [x1_new, x2_new]"
   ]
  },
  {
   "cell_type": "code",
   "execution_count": 123,
   "metadata": {},
   "outputs": [],
   "source": [
    "Y = [Y1[:,None], Y2[:, None]]"
   ]
  },
  {
   "cell_type": "code",
   "execution_count": 124,
   "metadata": {
    "scrolled": false
   },
   "outputs": [],
   "source": [
    "# KERNELS\n",
    "input_dim = 3\n",
    "ls_q = np.array(([.05]*Q))\n",
    "var_q = np.array(([.5]*Q))\n",
    "kern_list = multi_output.latent_functions_prior(Q, lengthscale=[ls_q], variance=[var_q], input_dim=input_dim,kernel=GPy.kern.Mix_Integral_)\n",
    "\n",
    "# My kernel needs to get the lengthscale like this for two dimesional data lenghtscale=[1.0, 1.0]\n",
    "# It doesn't need to be on, just two numbers\n",
    "# Although my data looks 5 dimensional it is actually two dimensional and the kernel handles that in the background)"
   ]
  },
  {
   "cell_type": "code",
   "execution_count": 125,
   "metadata": {},
   "outputs": [],
   "source": [
    "def callback(i):\n",
    "    if i['n_iter'] > 1500:\n",
    "        return True\n",
    "    return False"
   ]
  },
  {
   "cell_type": "code",
   "execution_count": 126,
   "metadata": {},
   "outputs": [],
   "source": [
    "X_ = np.vstack((X[0], X[1]))\n",
    "from sklearn.cluster import KMeans\n",
    "kmeans_X = KMeans(n_clusters=10, random_state=0).fit(X_)\n",
    "Z = kmeans_X.cluster_centers_\n",
    "Z[:,-1] = 1"
   ]
  },
  {
   "cell_type": "code",
   "execution_count": 127,
   "metadata": {},
   "outputs": [
    {
     "data": {
      "text/plain": [
       "array([[50.5       , 49.5       ,  1.        ],\n",
       "       [ 4.75      ,  2.625     ,  1.        ],\n",
       "       [26.14285714, 23.85714286,  1.        ],\n",
       "       [37.375     , 35.25      ,  1.        ],\n",
       "       [15.83333333, 13.33333333,  1.        ],\n",
       "       [57.375     , 55.25      ,  1.        ],\n",
       "       [44.75      , 42.625     ,  1.        ],\n",
       "       [31.        , 30.        ,  1.        ],\n",
       "       [10.        ,  9.        ,  1.        ],\n",
       "       [20.        , 19.        ,  1.        ]])"
      ]
     },
     "execution_count": 127,
     "metadata": {},
     "output_type": "execute_result"
    }
   ],
   "source": [
    "Z"
   ]
  },
  {
   "cell_type": "code",
   "execution_count": 128,
   "metadata": {},
   "outputs": [
    {
     "data": {
      "text/plain": [
       "(60, 2)"
      ]
     },
     "execution_count": 128,
     "metadata": {},
     "output_type": "execute_result"
    }
   ],
   "source": [
    "X1.shape"
   ]
  },
  {
   "cell_type": "code",
   "execution_count": 129,
   "metadata": {},
   "outputs": [
    {
     "data": {
      "image/png": "[encoded data removed]",
      "text/plain": [
       "<Figure size 432x288 with 1 Axes>"
      ]
     },
     "metadata": {},
     "output_type": "display_data"
    }
   ],
   "source": [
    "for xend,xstart,y in zip(X1[:,0],X1[:,1],Y1):\n",
    "    h = y/(xend-xstart)\n",
    "    plt.plot([xstart,xend],[h,h],'b-')\n",
    "for xend,xstart,y in zip(X2[:,0],X2[:,1],Y2):\n",
    "    h = y/(xend-xstart)\n",
    "    plt.plot([xstart,xend],[h,h],'g-')    \n",
    "for i,(zend,zstart) in enumerate(zip(Z[:,0],Z[:,1])):\n",
    "    plt.plot([zstart,zend],[i*0.003,i*0.003],'k-')"
   ]
  },
  {
   "cell_type": "code",
   "execution_count": 130,
   "metadata": {
    "scrolled": true
   },
   "outputs": [],
   "source": [
    "# MODEL and INFERENCE\n",
    "model = HetMOGP(X=X, Y=Y, Z=Z, kern_list=kern_list, likelihood=likelihood, Y_metadata=Y_metadata)"
   ]
  },
  {
   "cell_type": "code",
   "execution_count": 131,
   "metadata": {},
   "outputs": [
    {
     "name": "stdout",
     "output_type": "stream",
     "text": [
      "iteration (1) VE step, log_likelihood=[-48905.60128825]\n",
      "iteration (1) VM step, log_likelihood=[-2851.54856384]\n",
      "iteration (2) VE step, log_likelihood=[-717.83869721]\n",
      "iteration (2) VM step, log_likelihood=[-373.98791787]\n",
      "iteration (3) VE step, log_likelihood=[-284.98201765]\n",
      "iteration (3) VM step, log_likelihood=[-223.92720631]\n",
      "iteration (4) VE step, log_likelihood=[-220.66749098]\n",
      "iteration (4) VM step, log_likelihood=[-202.32702031]\n",
      "iteration (5) VE step, log_likelihood=[-201.3016048]\n",
      "iteration (5) VM step, log_likelihood=[-188.60526005]\n"
     ]
    }
   ],
   "source": [
    "vem_model=VEM(model,vem_iters=5,maxIter_perVEM=100,optZ=False,verbose=False,verbose_plot=False,non_chained=True)"
   ]
  },
  {
   "cell_type": "code",
   "execution_count": 132,
   "metadata": {},
   "outputs": [
    {
     "data": {
      "text/html": [
       "<style type=\"text/css\">\n",
       ".tg  {font-family:\"Courier New\", Courier, monospace !important;padding:2px 3px;word-break:normal;border-collapse:collapse;border-spacing:0;border-color:#DCDCDC;margin:0px auto;width:100%;}\n",
       ".tg td{font-family:\"Courier New\", Courier, monospace !important;font-weight:bold;color:#444;background-color:#F7FDFA;border-style:solid;border-width:1px;overflow:hidden;word-break:normal;border-color:#DCDCDC;}\n",
       ".tg th{font-family:\"Courier New\", Courier, monospace !important;font-weight:normal;color:#fff;background-color:#26ADE4;border-style:solid;border-width:1px;overflow:hidden;word-break:normal;border-color:#DCDCDC;}\n",
       ".tg .tg-left{font-family:\"Courier New\", Courier, monospace !important;font-weight:normal;text-align:left;}\n",
       ".tg .tg-center{font-family:\"Courier New\", Courier, monospace !important;font-weight:normal;text-align:center;}\n",
       ".tg .tg-right{font-family:\"Courier New\", Courier, monospace !important;font-weight:normal;text-align:right;}\n",
       "</style>\n",
       "<table class=\"tg\"><tr><th><b>  kern_q0.   </b></th><th><b>             value</b></th><th><b>constraints</b></th><th><b>priors</b></th></tr>\n",
       "<tr><td class=tg-left>  variance   </td><td class=tg-right> 24.36654282466576</td><td class=tg-center>    +ve    </td><td class=tg-center>      </td></tr>\n",
       "<tr><td class=tg-left>  lengthscale</td><td class=tg-right>14.338038333849383</td><td class=tg-center>    +ve    </td><td class=tg-center>      </td></tr>\n",
       "</table>"
      ],
      "text/plain": [
       "<GPy.kern.src.multidim_integral_kernel.Mix_Integral_ at 0x7fa6602037f0>"
      ]
     },
     "execution_count": 132,
     "metadata": {},
     "output_type": "execute_result"
    }
   ],
   "source": [
    "model.kern"
   ]
  },
  {
   "cell_type": "code",
   "execution_count": 133,
   "metadata": {},
   "outputs": [
    {
     "data": {
      "text/plain": [
       "[<matplotlib.lines.Line2D at 0x7fa6600fb6d8>,\n",
       " <matplotlib.lines.Line2D at 0x7fa6600fbda0>]"
      ]
     },
     "execution_count": 133,
     "metadata": {},
     "output_type": "execute_result"
    },
    {
     "data": {
      "image/png": "[encoded data removed]",
      "text/plain": [
       "<Figure size 432x288 with 1 Axes>"
      ]
     },
     "metadata": {},
     "output_type": "display_data"
    }
   ],
   "source": [
    "mean,var = model.predictive(np.c_[X1,np.zeros(len(X1))],output_function_ind=1)\n",
    "plt.plot(mean,'b-')\n",
    "plt.plot(mean+np.sqrt(var)*2,'b-',alpha=0.2)\n",
    "plt.plot(mean-np.sqrt(var)*2,'b-',alpha=0.2)\n",
    "plt.plot(X1,correct,'k--')"
   ]
  }
 ],
 "metadata": {
  "kernelspec": {
   "display_name": "Python 3",
   "language": "python",
   "name": "python3"
  },
  "language_info": {
   "codemirror_mode": {
    "name": "ipython",
    "version": 3
   },
   "file_extension": ".py",
   "mimetype": "text/x-python",
   "name": "python",
   "nbconvert_exporter": "python",
   "pygments_lexer": "ipython3",
   "version": "3.6.8"
  }
 },
 "nbformat": 4,
 "nbformat_minor": 2
}
