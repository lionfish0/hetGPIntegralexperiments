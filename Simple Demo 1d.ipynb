{
 "cells": [
  {
   "cell_type": "code",
   "execution_count": 1,
   "metadata": {},
   "outputs": [],
   "source": [
    "import matplotlib.pyplot as plt\n",
    "import numpy as np\n",
    "%matplotlib inline\n",
    "import numpy as np\n",
    "from shapeintegrals_fast_modified_for_hetGP import ShapeIntegral\n",
    "import GPy\n",
    "from scipy.stats import multinomial\n",
    "from scipy.linalg.blas import dtrmm\n",
    "from GPy.util import choleskies\n",
    "from GPy.core.parameterization.param import Param\n",
    "from GPy.kern import Coregionalize\n",
    "from GPy.likelihoods import Likelihood\n",
    "from GPy.util import linalg\n",
    "import random\n",
    "from HetMOGP.likelihoods.gaussian import Gaussian\n",
    "from HetMOGP.likelihoods.categorical import Categorical\n",
    "from HetMOGP.het_likelihood import HetLikelihood\n",
    "from HetMOGP import util\n",
    "from HetMOGP.svmogp import SVMOGP\n",
    "\n",
    "from shapeintegrals_fast_modified_for_hetGP import ShapeIntegral\n",
    "\n",
    "\n",
    "X1 = np.array([[0,5,0],[5,10,0],[10,15,0],[15,20,0],[30,35,0],[35,40,0]])*1.0\n",
    "X2 = np.full([10,X1.shape[1]],np.NaN)\n",
    "#X2[:,0] = np.array([3,4,5,6,7,8,9])+0.5\n",
    "X2[:,0] = np.array([0,2,4,6,8,10,12,14,16,18])\n",
    "X2[:,-1] = 1\n",
    "Y1 = np.array([[50,30,20,50,70,30]]).T*1.0\n",
    "Y2 = np.array([[5,5,5,3,3,3,2,2,5,5]]).T\n",
    "\n",
    "X = [X1,X2]\n",
    "Y = [Y1,Y2]\n",
    "Z = np.full([20,X1.shape[1]],np.NaN)\n",
    "Z[:,0:1] = np.linspace(1,19,20)[:,None] #np.random.rand(20,1)*20\n",
    "Z[:,-1]=1\n",
    "#kern = GPy.kern.RBF(2, lengthscale=10.0, variance = 1.0, ARD=False)\n",
    "#oldshapek = ShapeIntegral(X1.shape[1],input_space_dim=2,Nperunit=5,kernel=kern)"
   ]
  },
  {
   "cell_type": "code",
   "execution_count": 2,
   "metadata": {},
   "outputs": [
    {
     "data": {
      "text/plain": [
       "(array([[ 0., nan,  1.],\n",
       "        [ 2., nan,  1.],\n",
       "        [ 4., nan,  1.],\n",
       "        [ 6., nan,  1.],\n",
       "        [ 8., nan,  1.],\n",
       "        [10., nan,  1.],\n",
       "        [12., nan,  1.],\n",
       "        [14., nan,  1.],\n",
       "        [16., nan,  1.],\n",
       "        [18., nan,  1.]]), array([[5],\n",
       "        [5],\n",
       "        [5],\n",
       "        [3],\n",
       "        [3],\n",
       "        [3],\n",
       "        [2],\n",
       "        [2],\n",
       "        [5],\n",
       "        [5]]))"
      ]
     },
     "execution_count": 2,
     "metadata": {},
     "output_type": "execute_result"
    }
   ],
   "source": [
    "X2,Y2"
   ]
  },
  {
   "cell_type": "code",
   "execution_count": 3,
   "metadata": {},
   "outputs": [
    {
     "data": {
      "text/plain": [
       "array([[ 1.        ,         nan,  1.        ],\n",
       "       [ 1.94736842,         nan,  1.        ],\n",
       "       [ 2.89473684,         nan,  1.        ],\n",
       "       [ 3.84210526,         nan,  1.        ],\n",
       "       [ 4.78947368,         nan,  1.        ],\n",
       "       [ 5.73684211,         nan,  1.        ],\n",
       "       [ 6.68421053,         nan,  1.        ],\n",
       "       [ 7.63157895,         nan,  1.        ],\n",
       "       [ 8.57894737,         nan,  1.        ],\n",
       "       [ 9.52631579,         nan,  1.        ],\n",
       "       [10.47368421,         nan,  1.        ],\n",
       "       [11.42105263,         nan,  1.        ],\n",
       "       [12.36842105,         nan,  1.        ],\n",
       "       [13.31578947,         nan,  1.        ],\n",
       "       [14.26315789,         nan,  1.        ],\n",
       "       [15.21052632,         nan,  1.        ],\n",
       "       [16.15789474,         nan,  1.        ],\n",
       "       [17.10526316,         nan,  1.        ],\n",
       "       [18.05263158,         nan,  1.        ],\n",
       "       [19.        ,         nan,  1.        ]])"
      ]
     },
     "execution_count": 3,
     "metadata": {},
     "output_type": "execute_result"
    }
   ],
   "source": [
    "Z"
   ]
  },
  {
   "cell_type": "code",
   "execution_count": 4,
   "metadata": {},
   "outputs": [
    {
     "name": "stderr",
     "output_type": "stream",
     "text": [
      " /home/mike/Documents/Research/hetMOGPintegral/hetGPIntegralexperiments/shapeintegrals_fast_modified_for_hetGP.py:93: RuntimeWarning:divide by zero encountered in true_divide\n"
     ]
    },
    {
     "name": "stdout",
     "output_type": "stream",
     "text": [
      "nothing to optimize\n"
     ]
    }
   ],
   "source": [
    "gpymodel = GPy.models.GPRegression(np.r_[X1,X2],np.r_[Y1,Y2],ShapeIntegral(3,1,kernel=GPy.kern.RBF(1,lengthscale=1,variance=1000),Nperunit=5))\n",
    "gpymodel.kern.lengthscale.fix(1)\n",
    "gpymodel.kern.variance.fix(100)\n",
    "gpymodel.Gaussian_noise.fix(0.01)\n",
    "gpymodel.optimize()"
   ]
  },
  {
   "cell_type": "code",
   "execution_count": 5,
   "metadata": {},
   "outputs": [
    {
     "data": {
      "text/html": [
       "<style type=\"text/css\">\n",
       ".pd{\n",
       "    font-family: \"Courier New\", Courier, monospace !important;\n",
       "    width: 100%;\n",
       "    padding: 3px;\n",
       "}\n",
       "</style>\n",
       "\n",
       "<p class=pd>\n",
       "<b>Model</b>: GP regression<br>\n",
       "<b>Objective</b>: 65.79986428342342<br>\n",
       "<b>Number of Parameters</b>: 3<br>\n",
       "<b>Number of Optimization Parameters</b>: 0<br>\n",
       "<b>Updates</b>: True<br>\n",
       "</p>\n",
       "<style type=\"text/css\">\n",
       ".tg  {font-family:\"Courier New\", Courier, monospace !important;padding:2px 3px;word-break:normal;border-collapse:collapse;border-spacing:0;border-color:#DCDCDC;margin:0px auto;width:100%;}\n",
       ".tg td{font-family:\"Courier New\", Courier, monospace !important;font-weight:bold;color:#444;background-color:#F7FDFA;border-style:solid;border-width:1px;overflow:hidden;word-break:normal;border-color:#DCDCDC;}\n",
       ".tg th{font-family:\"Courier New\", Courier, monospace !important;font-weight:normal;color:#fff;background-color:#26ADE4;border-style:solid;border-width:1px;overflow:hidden;word-break:normal;border-color:#DCDCDC;}\n",
       ".tg .tg-left{font-family:\"Courier New\", Courier, monospace !important;font-weight:normal;text-align:left;}\n",
       ".tg .tg-center{font-family:\"Courier New\", Courier, monospace !important;font-weight:normal;text-align:center;}\n",
       ".tg .tg-right{font-family:\"Courier New\", Courier, monospace !important;font-weight:normal;text-align:right;}\n",
       "</style>\n",
       "<table class=\"tg\"><tr><th><b>  GP_regression.           </b></th><th><b>value</b></th><th><b>constraints</b></th><th><b>priors</b></th></tr>\n",
       "<tr><td class=tg-left>  shapeintegral.variance   </td><td class=tg-right>100.0</td><td class=tg-center> +ve fixed </td><td class=tg-center>      </td></tr>\n",
       "<tr><td class=tg-left>  shapeintegral.lengthscale</td><td class=tg-right>  1.0</td><td class=tg-center> +ve fixed </td><td class=tg-center>      </td></tr>\n",
       "<tr><td class=tg-left>  Gaussian_noise.variance  </td><td class=tg-right> 0.01</td><td class=tg-center> +ve fixed </td><td class=tg-center>      </td></tr>\n",
       "</table>"
      ],
      "text/plain": [
       "<GPy.models.gp_regression.GPRegression at 0x7f40598a7b38>"
      ]
     },
     "execution_count": 5,
     "metadata": {},
     "output_type": "execute_result"
    }
   ],
   "source": [
    "gpymodel"
   ]
  },
  {
   "cell_type": "code",
   "execution_count": 10,
   "metadata": {},
   "outputs": [
    {
     "data": {
      "text/plain": [
       "array([[ 0.,  5.,  0.],\n",
       "       [ 5., 10.,  0.],\n",
       "       [10., 15.,  0.],\n",
       "       [15., 20.,  0.],\n",
       "       [30., 35.,  0.],\n",
       "       [35., 40.,  0.]])"
      ]
     },
     "execution_count": 10,
     "metadata": {},
     "output_type": "execute_result"
    }
   ],
   "source": [
    "X1"
   ]
  },
  {
   "cell_type": "code",
   "execution_count": 16,
   "metadata": {},
   "outputs": [],
   "source": [
    "testX = np.full([100,3],np.NaN)\n",
    "testX[:,0] = np.linspace(0,40,100)\n",
    "testX[:,2] = 1.0\n",
    "\n",
    "predmean, predvar = gpymodel.predict(testX)"
   ]
  },
  {
   "cell_type": "code",
   "execution_count": 17,
   "metadata": {},
   "outputs": [
    {
     "data": {
      "image/png": "[encoded data removed]",
      "text/plain": [
       "<Figure size 432x288 with 1 Axes>"
      ]
     },
     "metadata": {},
     "output_type": "display_data"
    }
   ],
   "source": [
    "plt.plot(testX[:,0],predmean)\n",
    "plt.plot(X2[:,0],Y2[:,0],'xr')\n",
    "for x,y in zip(X1,Y1):\n",
    "    l = x[1]-x[0]\n",
    "    plt.plot([x[0],x[1]],[y[0]/l,y[0]/l])\n",
    "plt.grid()"
   ]
  },
  {
   "cell_type": "code",
   "execution_count": 171,
   "metadata": {},
   "outputs": [
    {
     "name": "stderr",
     "output_type": "stream",
     "text": [
      " /home/mike/anaconda3/lib/python3.6/site-packages/paramz/transformations.py:111: RuntimeWarning:divide by zero encountered in log\n",
      " /home/mike/Documents/Research/hetMOGPintegral/hetGPIntegralexperiments/shapeintegrals_fast_modified_for_hetGP.py:93: RuntimeWarning:divide by zero encountered in true_divide\n"
     ]
    }
   ],
   "source": [
    "likelihoods_list = [Gaussian(sigma=0.01), Gaussian(sigma=0.01)]\n",
    "likelihood = HetLikelihood(likelihoods_list)\n",
    "Y_metadata = likelihood.generate_metadata()\n",
    "\n",
    "D = likelihood.num_output_functions(Y_metadata)\n",
    "Q = 1\n",
    "W_list, _ = util.random_W_kappas(Q, D, rank=1, experiment=True)\n",
    "\n",
    "kern_list=[ShapeIntegral(X[0].shape[1],1,kernel=GPy.kern.RBF(1,lengthscale=1,variance=10),Nperunit=5)]\n",
    "\n",
    "model = SVMOGP(X=X, Y=Y, Z=Z, kern_list=kern_list, likelihood=likelihood, Y_metadata=Y_metadata)"
   ]
  },
  {
   "cell_type": "code",
   "execution_count": 172,
   "metadata": {},
   "outputs": [
    {
     "name": "stdout",
     "output_type": "stream",
     "text": [
      "Running L-BFGS-B (Scipy implementation) Code:\n",
      "  runtime   i   f              |g|        \n",
      "\r",
      "    00s00  0   6.148917e+07           nan "
     ]
    },
    {
     "name": "stderr",
     "output_type": "stream",
     "text": [
      " /home/mike/anaconda3/lib/python3.6/site-packages/paramz/transformations.py:111: RuntimeWarning:divide by zero encountered in log\n"
     ]
    },
    {
     "name": "stdout",
     "output_type": "stream",
     "text": [
      "    02s27  2   6.059880e+07   7.804458e+11 \n",
      "    06s40  6   3.077265e+07   6.781682e+09 \n",
      "Runtime:     06s40\n",
      "Optimization status: Maximum number of f evaluations reached\n",
      "\n",
      "iteration (1) VE step, log_likelihood=[-30772654.22275073]\n",
      "Running L-BFGS-B (Scipy implementation) Code:\n",
      "  runtime   i   f              |g|        \n",
      "    01s10  1   3.077265e+07   1.070245e+14 \n",
      "    05s89  6   3.024716e+07   3.709539e+13 \n",
      "Runtime:     05s89\n",
      "Optimization status: Maximum number of f evaluations reached\n",
      "\n",
      "iteration (1) VM step, log_likelihood=[-30247156.07473927]\n",
      "Running L-BFGS-B (Scipy implementation) Code:\n",
      "  runtime   i   f              |g|        \n",
      "    00s00  0   3.024716e+07   3.709539e+13 \n",
      "    05s47  6   2.933781e+07   1.359959e+09 \n",
      "Runtime:     05s47\n",
      "Optimization status: Maximum number of f evaluations reached\n",
      "\n",
      "iteration (2) VE step, log_likelihood=[-29337812.98122419]\n",
      "Running L-BFGS-B (Scipy implementation) Code:\n",
      "  runtime   i   f              |g|        \n",
      "    03s50  4   2.932753e+07   2.711999e+12 \n",
      "    05s31  6   2.932364e+07   1.845649e+13 \n",
      "Runtime:     05s31\n",
      "Optimization status: Maximum number of f evaluations reached\n",
      "\n",
      "iteration (2) VM step, log_likelihood=[-29323637.56575412]\n",
      "Running L-BFGS-B (Scipy implementation) Code:\n",
      "  runtime   i   f              |g|        \n",
      "    05s38  6   2.924149e+07   1.984674e+08 \n",
      "Runtime:     05s38\n",
      "Optimization status: Maximum number of f evaluations reached\n",
      "\n",
      "iteration (3) VE step, log_likelihood=[-29241494.39045722]\n",
      "Running L-BFGS-B (Scipy implementation) Code:\n",
      "  runtime   i   f              |g|        \n",
      "    01s74  2   2.672836e+08   4.395349e+17 \n",
      "    10s63  12   2.924095e+07   3.615610e+11 \n",
      "    13s48  15   2.924095e+07   3.622080e+11 \n",
      "Runtime:     13s48\n",
      "Optimization status: Maximum number of f evaluations reached\n",
      "\n",
      "iteration (3) VM step, log_likelihood=[-29240946.76422251]\n"
     ]
    }
   ],
   "source": [
    "from HetMOGP.util import vem_algorithm as VEM\n",
    "model.shapeintegral.variance.fix(10)\n",
    "model.shapeintegral.lengthscale.fix(1)\n",
    "model=VEM(model,vem_iters=3,maxIter_perVEM=4,optZ=False,verbose=True,verbose_plot=False,non_chained=True)"
   ]
  },
  {
   "cell_type": "code",
   "execution_count": 173,
   "metadata": {},
   "outputs": [
    {
     "data": {
      "text/html": [
       "<style type=\"text/css\">\n",
       ".tg  {font-family:\"Courier New\", Courier, monospace !important;padding:2px 3px;word-break:normal;border-collapse:collapse;border-spacing:0;border-color:#DCDCDC;margin:0px auto;width:100%;}\n",
       ".tg td{font-family:\"Courier New\", Courier, monospace !important;font-weight:bold;color:#444;background-color:#F7FDFA;border-style:solid;border-width:1px;overflow:hidden;word-break:normal;border-color:#DCDCDC;}\n",
       ".tg th{font-family:\"Courier New\", Courier, monospace !important;font-weight:normal;color:#fff;background-color:#26ADE4;border-style:solid;border-width:1px;overflow:hidden;word-break:normal;border-color:#DCDCDC;}\n",
       ".tg .tg-left{font-family:\"Courier New\", Courier, monospace !important;font-weight:normal;text-align:left;}\n",
       ".tg .tg-center{font-family:\"Courier New\", Courier, monospace !important;font-weight:normal;text-align:center;}\n",
       ".tg .tg-right{font-family:\"Courier New\", Courier, monospace !important;font-weight:normal;text-align:right;}\n",
       "</style>\n",
       "<table class=\"tg\"><tr><th><b>  rbf.       </b></th><th><b>             value</b></th><th><b>constraints</b></th><th><b>priors</b></th></tr>\n",
       "<tr><td class=tg-left>  variance   </td><td class=tg-right>10.004578562002374</td><td class=tg-center>    +ve    </td><td class=tg-center>      </td></tr>\n",
       "<tr><td class=tg-left>  lengthscale</td><td class=tg-right>1.0289982723895286</td><td class=tg-center>    +ve    </td><td class=tg-center>      </td></tr>\n",
       "</table>"
      ],
      "text/plain": [
       "<GPy.kern.src.rbf.RBF at 0x7fa08b620748>"
      ]
     },
     "execution_count": 173,
     "metadata": {},
     "output_type": "execute_result"
    }
   ],
   "source": [
    "model.shapeintegral.kernel"
   ]
  },
  {
   "cell_type": "code",
   "execution_count": 174,
   "metadata": {},
   "outputs": [
    {
     "data": {
      "text/html": [
       "<style type=\"text/css\">\n",
       ".pd{\n",
       "    font-family: \"Courier New\", Courier, monospace !important;\n",
       "    width: 100%;\n",
       "    padding: 3px;\n",
       "}\n",
       "</style>\n",
       "\n",
       "<p class=pd>\n",
       "<b>Model</b>: SVMOGP<br>\n",
       "<b>Objective</b>: 29240946.764222514<br>\n",
       "<b>Number of Parameters</b>: 296<br>\n",
       "<b>Number of Optimization Parameters</b>: 4<br>\n",
       "<b>Updates</b>: True<br>\n",
       "</p>\n",
       "<style type=\"text/css\">\n",
       ".tg  {font-family:\"Courier New\", Courier, monospace !important;padding:2px 3px;word-break:normal;border-collapse:collapse;border-spacing:0;border-color:#DCDCDC;margin:0px auto;width:100%;}\n",
       ".tg td{font-family:\"Courier New\", Courier, monospace !important;font-weight:bold;color:#444;background-color:#F7FDFA;border-style:solid;border-width:1px;overflow:hidden;word-break:normal;border-color:#DCDCDC;}\n",
       ".tg th{font-family:\"Courier New\", Courier, monospace !important;font-weight:normal;color:#fff;background-color:#26ADE4;border-style:solid;border-width:1px;overflow:hidden;word-break:normal;border-color:#DCDCDC;}\n",
       ".tg .tg-left{font-family:\"Courier New\", Courier, monospace !important;font-weight:normal;text-align:left;}\n",
       ".tg .tg-center{font-family:\"Courier New\", Courier, monospace !important;font-weight:normal;text-align:center;}\n",
       ".tg .tg-right{font-family:\"Courier New\", Courier, monospace !important;font-weight:normal;text-align:right;}\n",
       "</style>\n",
       "<table class=\"tg\"><tr><th><b>  SVMOGP.                  </b></th><th><b>             value</b></th><th><b>constraints</b></th><th><b>priors</b></th></tr>\n",
       "<tr><td class=tg-left>  inducing inputs          </td><td class=tg-right>           (20, 3)</td><td class=tg-center>   fixed   </td><td class=tg-center>      </td></tr>\n",
       "<tr><td class=tg-left>  m_u                      </td><td class=tg-right>           (20, 1)</td><td class=tg-center>   fixed   </td><td class=tg-center>      </td></tr>\n",
       "<tr><td class=tg-left>  L_u                      </td><td class=tg-right>          (210, 1)</td><td class=tg-center>   fixed   </td><td class=tg-center>      </td></tr>\n",
       "<tr><td class=tg-left>  shapeintegral.variance   </td><td class=tg-right>10.004578562002374</td><td class=tg-center>    +ve    </td><td class=tg-center>      </td></tr>\n",
       "<tr><td class=tg-left>  shapeintegral.lengthscale</td><td class=tg-right>1.0289982723895286</td><td class=tg-center>    +ve    </td><td class=tg-center>      </td></tr>\n",
       "<tr><td class=tg-left>  B_q0.W                   </td><td class=tg-right>            (2, 1)</td><td class=tg-center>           </td><td class=tg-center>      </td></tr>\n",
       "<tr><td class=tg-left>  B_q0.kappa               </td><td class=tg-right>              (2,)</td><td class=tg-center> +ve fixed </td><td class=tg-center>      </td></tr>\n",
       "</table>"
      ],
      "text/plain": [
       "<HetMOGP.svmogp.SVMOGP at 0x7fa08b620940>"
      ]
     },
     "execution_count": 174,
     "metadata": {},
     "output_type": "execute_result"
    }
   ],
   "source": [
    "model"
   ]
  },
  {
   "cell_type": "code",
   "execution_count": 175,
   "metadata": {},
   "outputs": [
    {
     "data": {
      "text/plain": [
       "(array([[8.75407413],\n",
       "        [6.38329387],\n",
       "        [9.85759552],\n",
       "        [3.58046258],\n",
       "        [3.48721839],\n",
       "        [3.48611365],\n",
       "        [2.29174505],\n",
       "        [2.32627475],\n",
       "        [6.36226951],\n",
       "        [5.5373279 ]]), array([[0.61695103],\n",
       "        [0.0028013 ],\n",
       "        [0.00708133],\n",
       "        [0.00800707],\n",
       "        [0.01069292],\n",
       "        [0.01609952],\n",
       "        [0.01470527],\n",
       "        [0.00696721],\n",
       "        [0.00135207],\n",
       "        [0.00338072]]))"
      ]
     },
     "execution_count": 175,
     "metadata": {},
     "output_type": "execute_result"
    }
   ],
   "source": [
    "model.predictive_f_star(X2)"
   ]
  },
  {
   "cell_type": "code",
   "execution_count": 176,
   "metadata": {},
   "outputs": [],
   "source": [
    "testX = np.full([100,X1.shape[1]],np.NaN)\n",
    "testX[:,0] = np.linspace(0,30,100)\n",
    "testX[:,-1] = 1\n",
    "predY, varY = model.predictive_f_star(testX)"
   ]
  },
  {
   "cell_type": "code",
   "execution_count": 177,
   "metadata": {},
   "outputs": [
    {
     "data": {
      "text/plain": [
       "array([ 0.        ,  0.3030303 ,  0.60606061,  0.90909091,  1.21212121,\n",
       "        1.51515152,  1.81818182,  2.12121212,  2.42424242,  2.72727273,\n",
       "        3.03030303,  3.33333333,  3.63636364,  3.93939394,  4.24242424,\n",
       "        4.54545455,  4.84848485,  5.15151515,  5.45454545,  5.75757576,\n",
       "        6.06060606,  6.36363636,  6.66666667,  6.96969697,  7.27272727,\n",
       "        7.57575758,  7.87878788,  8.18181818,  8.48484848,  8.78787879,\n",
       "        9.09090909,  9.39393939,  9.6969697 , 10.        , 10.3030303 ,\n",
       "       10.60606061, 10.90909091, 11.21212121, 11.51515152, 11.81818182,\n",
       "       12.12121212, 12.42424242, 12.72727273, 13.03030303, 13.33333333,\n",
       "       13.63636364, 13.93939394, 14.24242424, 14.54545455, 14.84848485,\n",
       "       15.15151515, 15.45454545, 15.75757576, 16.06060606, 16.36363636,\n",
       "       16.66666667, 16.96969697, 17.27272727, 17.57575758, 17.87878788,\n",
       "       18.18181818, 18.48484848, 18.78787879, 19.09090909, 19.39393939,\n",
       "       19.6969697 , 20.        , 20.3030303 , 20.60606061, 20.90909091,\n",
       "       21.21212121, 21.51515152, 21.81818182, 22.12121212, 22.42424242,\n",
       "       22.72727273, 23.03030303, 23.33333333, 23.63636364, 23.93939394,\n",
       "       24.24242424, 24.54545455, 24.84848485, 25.15151515, 25.45454545,\n",
       "       25.75757576, 26.06060606, 26.36363636, 26.66666667, 26.96969697,\n",
       "       27.27272727, 27.57575758, 27.87878788, 28.18181818, 28.48484848,\n",
       "       28.78787879, 29.09090909, 29.39393939, 29.6969697 , 30.        ])"
      ]
     },
     "execution_count": 177,
     "metadata": {},
     "output_type": "execute_result"
    }
   ],
   "source": [
    "testX[:,0]"
   ]
  },
  {
   "cell_type": "code",
   "execution_count": 178,
   "metadata": {},
   "outputs": [
    {
     "data": {
      "image/png": "[encoded data removed]",
      "text/plain": [
       "<Figure size 432x288 with 1 Axes>"
      ]
     },
     "metadata": {},
     "output_type": "display_data"
    }
   ],
   "source": [
    "plt.plot(testX[:,0],predY,'-k',alpha=1)\n",
    "plt.plot(testX[:,0],predY+np.sqrt(varY),'-k',alpha=0.2)\n",
    "plt.plot(testX[:,0],predY-np.sqrt(varY),'-k',alpha=0.2)\n",
    "#plt.ylim([-2,5])\n",
    "plt.grid()\n",
    "plt.scatter(Z[:,0],np.zeros(len(Z)),50,marker='x',color='b')\n",
    "plt.plot(X2[:,0],Y2[:,0],'r.')\n",
    "for x,y in zip(X1,Y1):\n",
    "    plt.plot([x[0],x[1]],[y[0],y[0]])"
   ]
  },
  {
   "cell_type": "code",
   "execution_count": 179,
   "metadata": {},
   "outputs": [
    {
     "data": {
      "text/html": [
       "<style type=\"text/css\">\n",
       ".tg  {font-family:\"Courier New\", Courier, monospace !important;padding:2px 3px;word-break:normal;border-collapse:collapse;border-spacing:0;border-color:#DCDCDC;margin:0px auto;width:100%;}\n",
       ".tg td{font-family:\"Courier New\", Courier, monospace !important;font-weight:bold;color:#444;background-color:#F7FDFA;border-style:solid;border-width:1px;overflow:hidden;word-break:normal;border-color:#DCDCDC;}\n",
       ".tg th{font-family:\"Courier New\", Courier, monospace !important;font-weight:normal;color:#fff;background-color:#26ADE4;border-style:solid;border-width:1px;overflow:hidden;word-break:normal;border-color:#DCDCDC;}\n",
       ".tg .tg-left{font-family:\"Courier New\", Courier, monospace !important;font-weight:normal;text-align:left;}\n",
       ".tg .tg-center{font-family:\"Courier New\", Courier, monospace !important;font-weight:normal;text-align:center;}\n",
       ".tg .tg-right{font-family:\"Courier New\", Courier, monospace !important;font-weight:normal;text-align:right;}\n",
       "</style>\n",
       "<table class=\"tg\"><tr><th><b>  shapeintegral.</b></th><th><b>             value</b></th><th><b>constraints</b></th><th><b>priors</b></th></tr>\n",
       "<tr><td class=tg-left>  variance      </td><td class=tg-right>10.004578562002374</td><td class=tg-center>    +ve    </td><td class=tg-center>      </td></tr>\n",
       "<tr><td class=tg-left>  lengthscale   </td><td class=tg-right>1.0289982723895286</td><td class=tg-center>    +ve    </td><td class=tg-center>      </td></tr>\n",
       "</table>"
      ],
      "text/plain": [
       "<shapeintegrals_fast_modified_for_hetGP.ShapeIntegral at 0x7fa08b620cf8>"
      ]
     },
     "execution_count": 179,
     "metadata": {},
     "output_type": "execute_result"
    }
   ],
   "source": [
    "model.kern"
   ]
  },
  {
   "cell_type": "code",
   "execution_count": 163,
   "metadata": {},
   "outputs": [
    {
     "data": {
      "text/plain": [
       "array([[0.22295288, 0.15706537],\n",
       "       [0.15706537, 0.11064908]])"
      ]
     },
     "execution_count": 163,
     "metadata": {},
     "output_type": "execute_result"
    }
   ],
   "source": [
    "model.B_q0.B"
   ]
  },
  {
   "cell_type": "code",
   "execution_count": null,
   "metadata": {},
   "outputs": [],
   "source": []
  },
  {
   "cell_type": "code",
   "execution_count": null,
   "metadata": {},
   "outputs": [],
   "source": []
  },
  {
   "cell_type": "code",
   "execution_count": null,
   "metadata": {},
   "outputs": [],
   "source": []
  }
 ],
 "metadata": {
  "kernelspec": {
   "display_name": "Python 3",
   "language": "python",
   "name": "python3"
  },
  "language_info": {
   "codemirror_mode": {
    "name": "ipython",
    "version": 3
   },
   "file_extension": ".py",
   "mimetype": "text/x-python",
   "name": "python",
   "nbconvert_exporter": "python",
   "pygments_lexer": "ipython3",
   "version": "3.6.8"
  }
 },
 "nbformat": 4,
 "nbformat_minor": 2
}
