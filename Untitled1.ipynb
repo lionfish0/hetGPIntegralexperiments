{
 "cells": [
  {
   "cell_type": "code",
   "execution_count": 49,
   "metadata": {},
   "outputs": [],
   "source": [
    "from joblib import Parallel, delayed\n",
    "\n",
    "import numpy as np\n",
    "data = np.random.randn(1000,1000)\n",
    "from math import sqrt\n",
    "def complicatedfn(a):\n",
    "    a[a>0.5]=0\n",
    "    a = np.cumsum(a)\n",
    "    a = np.abs(a)\n",
    "    for i in range(len(a)):\n",
    "        a[i]=np.abs(a[i]+1)\n",
    "    a = np.sqrt(a)\n",
    "    return np.sum(a),np.sum(np.sqrt(a))\n",
    "    #return np.sum(np.sqrt(np.cumsum(a)))\n",
    "    \n",
    "res = np.zeros(1000)\n",
    "for i,d in enumerate(data):\n",
    "    res[i],_ = complicatedfn(d)\n",
    "\n",
    "#for i,d in enumerate(data):\n",
    "#    Parallel(n_jobs=8)(delayed(complicatedfn)(d) for d in data)"
   ]
  },
  {
   "cell_type": "code",
   "execution_count": 53,
   "metadata": {},
   "outputs": [
    {
     "data": {
      "text/plain": [
       "array([[11742.09651586,  3360.42248286],\n",
       "       [12277.21001385,  3429.876779  ],\n",
       "       [12901.87702529,  3519.34595359],\n",
       "       ...,\n",
       "       [12542.24561477,  3477.85242685],\n",
       "       [11771.99927083,  3358.3255965 ],\n",
       "       [12140.88305887,  3401.95350707]])"
      ]
     },
     "execution_count": 53,
     "metadata": {},
     "output_type": "execute_result"
    }
   ],
   "source": [
    "np.array([complicatedfn(d) for d in data])"
   ]
  },
  {
   "cell_type": "code",
   "execution_count": 35,
   "metadata": {},
   "outputs": [
    {
     "data": {
      "text/plain": [
       "13026.071763789088"
      ]
     },
     "execution_count": 35,
     "metadata": {},
     "output_type": "execute_result"
    }
   ],
   "source": [
    "complicatedfn(data[0])"
   ]
  },
  {
   "cell_type": "code",
   "execution_count": 18,
   "metadata": {},
   "outputs": [
    {
     "name": "stderr",
     "output_type": "stream",
     "text": [
      "/home/ubuntu/anaconda3/lib/python3.7/site-packages/ipykernel_launcher.py:1: RuntimeWarning: invalid value encountered in sqrt\n",
      "  \"\"\"Entry point for launching an IPython kernel.\n"
     ]
    },
    {
     "data": {
      "text/plain": [
       "array([       nan,        nan,        nan,        nan, 0.56889473,\n",
       "              nan, 0.10739887, 0.49634663,        nan,        nan,\n",
       "       0.96643872,        nan,        nan,        nan, 0.34036913,\n",
       "       0.45589356, 0.74727084,        nan, 0.6231544 , 0.90272626,\n",
       "              nan,        nan,        nan,        nan, 0.78941441,\n",
       "              nan,        nan,        nan, 0.92707823, 0.56675168,\n",
       "       0.85779054,        nan,        nan, 0.24461103,        nan,\n",
       "              nan, 0.42375789,        nan,        nan, 1.76803907,\n",
       "              nan,        nan,        nan, 0.32018812, 0.76436763,\n",
       "       1.25875347,        nan, 0.65054208, 0.41921692,        nan,\n",
       "       1.32692766,        nan, 1.02405814, 0.96036021, 0.98427943,\n",
       "              nan, 1.4489849 ,        nan, 0.55888666, 1.47359145,\n",
       "       1.31849915,        nan, 0.6899527 , 1.3075999 , 0.47774714,\n",
       "              nan, 0.79564585,        nan,        nan, 1.28852922,\n",
       "              nan,        nan,        nan, 0.60762621, 1.09552635,\n",
       "              nan,        nan,        nan,        nan,        nan,\n",
       "       0.8571069 , 0.65303611,        nan,        nan,        nan,\n",
       "              nan, 1.1955872 , 0.29486448, 0.87489977, 0.71084369,\n",
       "       0.50894653,        nan, 0.89431069, 1.42406376,        nan,\n",
       "              nan,        nan,        nan, 0.44904622, 1.31388583])"
      ]
     },
     "execution_count": 18,
     "metadata": {},
     "output_type": "execute_result"
    }
   ],
   "source": [
    "np.sqrt(data[0])"
   ]
  },
  {
   "cell_type": "code",
   "execution_count": null,
   "metadata": {},
   "outputs": [],
   "source": []
  }
 ],
 "metadata": {
  "kernelspec": {
   "display_name": "Python 3",
   "language": "python",
   "name": "python3"
  },
  "language_info": {
   "codemirror_mode": {
    "name": "ipython",
    "version": 3
   },
   "file_extension": ".py",
   "mimetype": "text/x-python",
   "name": "python",
   "nbconvert_exporter": "python",
   "pygments_lexer": "ipython3",
   "version": "3.7.3"
  }
 },
 "nbformat": 4,
 "nbformat_minor": 2
}
