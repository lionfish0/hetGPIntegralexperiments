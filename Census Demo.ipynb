{
 "cells": [
  {
   "cell_type": "code",
   "execution_count": 1,
   "metadata": {},
   "outputs": [
    {
     "name": "stdout",
     "output_type": "stream",
     "text": [
      "Trying cache...\n",
      "Cache loaded.\n",
      "Loaded from cache, 18 training polygons and 280 testing polygons\n"
     ]
    }
   ],
   "source": [
    "import matplotlib.pyplot as plt\n",
    "import numpy as np\n",
    "%matplotlib inline\n",
    "#import paper_tools\n",
    "import census\n",
    "import numpy as np\n",
    "#load the census data\n",
    "#sheffield\n",
    "#bbox = np.array([430,440,381,391])\n",
    "bbox = np.array([433,437,382,386])\n",
    "pathtodata = '/home/ubuntu/hetMOGPintegral/hetGPIntegralexperiments/'\n",
    "shapefilename=pathtodata+'oaboundaries/Output_Area_December_2011_Generalised_Clipped_Boundaries_in_England_and_Wales.shp'\n",
    "oafilename=pathtodata+'oa_to_lsoa/OA11_LSOA11_MSOA11_LAD11_EW_LUv2.csv'\n",
    "randomoafilename = pathtodata+'oa_to_lsoa/RANDOM_SOAS_2.csv' #this file contains MSOA that have been randomly assigned\n",
    "oadescfilename=pathtodata+'oadata/KS102ew_2011_oa/KS102EW_2011STATH_NAT_OA_REL_1.4.4/KS102EWDESC0.CSV'\n",
    "oadatafilename=pathtodata+'oadata/KS102ew_2011_oa/KS102EWDATA.CSV'\n",
    "\n",
    "#X,Y,testX,testY = census.get_census_data(box=bbox*1000,verbose=True)\n",
    "X1,Y1,oaX1,oaY1 = census.get_census_data(shapefilename=shapefilename,\n",
    "                                         oafilename=oafilename,\n",
    "                                         oadescfilename=oadescfilename,\n",
    "                                         oadatafilename=oadatafilename,\n",
    "                                         box=bbox*1000,verbose=True,refresh=False)\n",
    "X1 = np.c_[X1,np.zeros([len(X1),1])]\n",
    "oaX1 = np.c_[oaX1,np.zeros([len(oaX1),1])]"
   ]
  },
  {
   "cell_type": "code",
   "execution_count": 2,
   "metadata": {},
   "outputs": [
    {
     "name": "stderr",
     "output_type": "stream",
     "text": [
      " /home/mike/Documents/Research/hetMOGPintegral/hetGPIntegralexperiments/shapeintegrals_fast_modified_for_hetGP.py:93: RuntimeWarning:divide by zero encountered in true_divide\n"
     ]
    }
   ],
   "source": [
    "from shapeintegrals_fast_modified_for_hetGP import ShapeIntegral\n",
    "import GPy\n",
    "kern = GPy.kern.RBF(2, lengthscale=10.0, variance = 1.0, ARD=False)\n",
    "oldshapek = ShapeIntegral(X1.shape[1],input_space_dim=2,Nperunit=5,kernel=kern)\n",
    "m = GPy.models.GPRegression(X1,Y1,oldshapek)\n",
    "m.Gaussian_noise=10.0\n",
    "#predY,_=m.predict(testX)#[0:3,:]"
   ]
  },
  {
   "cell_type": "code",
   "execution_count": 3,
   "metadata": {},
   "outputs": [],
   "source": [
    "def oldplotsimplexes(X,c='k',lw=1):\n",
    "    for x in X:\n",
    "        edges = []\n",
    "        if x[-1]==0:\n",
    "            for tri in x[0:-1].reshape(int(len(x)/6),6):\n",
    "                plt.plot(tri[[0,2,4,0]],tri[[1,3,5,1]],c=c,lw=lw)\n",
    "        else:\n",
    "            print(\"PLOTTING A POINT! AHH\")\n",
    "            plt.plot(x[0],x[1],'x'+c,mew=5,markersize=20)\n",
    "            \n",
    "            \n",
    "def plotsimplexes(X,c='k',lw=1):\n",
    "    for x in X:\n",
    "        edges = []\n",
    "        if x[-1]==0:\n",
    "            for tri in x[0:-1].reshape(int(len(x)/6),6):\n",
    "                edges.append(tri[[0,1,2,3]])\n",
    "                edges.append(tri[[2,3,4,5]])\n",
    "                edges.append(tri[[4,5,0,1]])\n",
    "                \n",
    "                \n",
    "                plt.plot(tri[[0,2,4,0]],tri[[1,3,5,1]],c=c,lw=lw)\n",
    "        else:\n",
    "            plt.plot(x[0],x[1],'x'+c,mew=5,markersize=20)\n",
    "            \n",
    "            \n",
    "\n",
    "            \n",
    "#def plotsimplexes(X,c='k',lw=1):\n",
    "#    for x in X:\n",
    "#        if x[-1]==0:\n",
    "#            for tri in x[0:-1].reshape(int(len(x)/6),6):\n",
    "#                plt.plot(tri[[0,2,4,0]],tri[[1,3,5,1]],c=c,lw=lw)\n",
    "#        else:\n",
    "#            print(\"PLOTTING A POINT! AHH\")\n",
    "#            plt.plot(x[0],x[1],'x'+c,mew=5,markersize=20)\n",
    "            \n",
    "            \n"
   ]
  },
  {
   "cell_type": "code",
   "execution_count": 4,
   "metadata": {},
   "outputs": [],
   "source": [
    "Xa,Xb = np.meshgrid(np.linspace(432,438,25),np.linspace(381,387,25))\n",
    "testX = np.c_[Xa.flatten(),Xb.flatten()]\n",
    "testX = np.c_[testX,np.ones([testX.shape[0],X1.shape[1]-2])]\n",
    "#m.optimize()\n",
    "#preds,_ = m.predict_noiseless(testX)"
   ]
  },
  {
   "cell_type": "code",
   "execution_count": 5,
   "metadata": {},
   "outputs": [
    {
     "data": {
      "text/plain": [
       "array([433, 437, 382, 386])"
      ]
     },
     "execution_count": 5,
     "metadata": {},
     "output_type": "execute_result"
    }
   ],
   "source": [
    "bbox"
   ]
  },
  {
   "cell_type": "code",
   "execution_count": 6,
   "metadata": {
    "scrolled": true
   },
   "outputs": [],
   "source": [
    "from dp4gp import datasets\n",
    "from dp4gp import dp4gp\n",
    "from dp4gp import histogram\n",
    "from dp4gp.utils import dp_normalise, dp_unnormalise\n",
    "import numpy as np\n",
    "import pandas as pd\n",
    "import GPy\n",
    "import matplotlib.pyplot as plt\n",
    "%matplotlib inline\n",
    "\n",
    "#datasets.prepare_preloaded_prices('sheffield_houseprices.csv', col_list=[], since=2000, boundingbox=bbox[[0,2,1,3]]*1000, N=5000)\n",
    "dataset = pd.read_csv('sheffield_houseprices.csv') #sheffield\n",
    "#inputs = np.vstack([dataset['easting'].values,dataset['northing'].values]).T\n",
    "#ys = dataset['price'].values"
   ]
  },
  {
   "cell_type": "code",
   "execution_count": 7,
   "metadata": {},
   "outputs": [],
   "source": [
    "X2 = np.c_[dataset['easting'].values/1000,dataset['northing'].values/1000,np.full([len(dataset),X1.shape[1]-3],np.NaN),np.ones(len(dataset))]\n",
    "tempY2 = dataset['type'].values\n",
    "#plt.plot(east[dataset['type']==housetype].values/1000,north[dataset['type']==housetype].values/1000,pattern,markersize=2)"
   ]
  },
  {
   "cell_type": "code",
   "execution_count": 8,
   "metadata": {},
   "outputs": [],
   "source": [
    "Y2 = np.zeros(len(tempY2))[:,None]\n",
    "for i,t in enumerate(list(set(tempY2))):\n",
    "    Y2[tempY2==t,0]=1.0*i"
   ]
  },
  {
   "cell_type": "code",
   "execution_count": 9,
   "metadata": {},
   "outputs": [],
   "source": [
    "X = [X1,X2]\n",
    "Y = [Y1,Y2]"
   ]
  },
  {
   "cell_type": "markdown",
   "metadata": {},
   "source": [
    "# Analysis"
   ]
  },
  {
   "cell_type": "code",
   "execution_count": 10,
   "metadata": {},
   "outputs": [],
   "source": [
    "import numpy as np\n",
    "from scipy.stats import multinomial\n",
    "from scipy.linalg.blas import dtrmm\n",
    "\n",
    "import GPy\n",
    "from GPy.util import choleskies\n",
    "from GPy.core.parameterization.param import Param\n",
    "from GPy.kern import Coregionalize\n",
    "from GPy.likelihoods import Likelihood\n",
    "from GPy.util import linalg\n",
    "\n",
    "# from likelihoods.bernoulli import Bernoulli\n",
    "# from likelihoods.gaussian import Gaussian\n",
    "# from likelihoods.categorical import Categorical\n",
    "# from likelihoods.hetgaussian import HetGaussian\n",
    "# from likelihoods.beta import Beta\n",
    "# from likelihoods.gamma import Gamma\n",
    "# from likelihoods.exponential import Exponential\n",
    "\n",
    "# from hetmogp.util import draw_mini_slices\n",
    "# from hetmogp.het_likelihood import HetLikelihood\n",
    "# from hetmogp.model import HetMOGP\n",
    "# from hetmogp import multi_output\n",
    "# from hetmogp import util\n",
    "# from hetmogp.util import vem_algorithm as VEM\n",
    "\n",
    "import matplotlib.pyplot as plt\n",
    "from matplotlib.pyplot import gca\n",
    "from matplotlib import rc, font_manager\n",
    "from matplotlib import rcParams\n",
    "#from matplotlib2tikz import save as tikz_save\n",
    "\n",
    "from sklearn.model_selection import train_test_split\n",
    "from sklearn.metrics import accuracy_score\n",
    "import numpy as np\n",
    "import GPy\n",
    "import matplotlib.pyplot as plt\n",
    "from GPy.kern import Kern\n",
    "from GPy.core.parameterization import Param\n",
    "from paramz.transformations import Logexp\n",
    "import math\n",
    "from scipy.misc import factorial\n",
    "import numpy as np\n",
    "import math\n",
    "import random\n",
    "from shapeintegrals_fast_modified_for_hetGP import ShapeIntegral"
   ]
  },
  {
   "cell_type": "code",
   "execution_count": 11,
   "metadata": {},
   "outputs": [
    {
     "name": "stderr",
     "output_type": "stream",
     "text": [
      " /home/mike/Documents/Research/hetMOGPintegral/hetGPIntegralexperiments/shapeintegrals_fast_modified_for_hetGP.py:93: RuntimeWarning:divide by zero encountered in true_divide\n"
     ]
    },
    {
     "data": {
      "text/plain": [
       "array([0])"
      ]
     },
     "execution_count": 11,
     "metadata": {},
     "output_type": "execute_result"
    }
   ],
   "source": [
    "latentkern = GPy.kern.RBF(2,lengthscale=10.0,variance=1.0)\n",
    "k = ShapeIntegral(X1.shape[1],2,kernel=latentkern,Nperunit=3)\n",
    "m = GPy.models.GPRegression(X1,Y1,k)\n",
    "m.Gaussian_noise.fix(0.001)"
   ]
  },
  {
   "cell_type": "code",
   "execution_count": 12,
   "metadata": {},
   "outputs": [
    {
     "data": {
      "text/html": [
       "<style type=\"text/css\">\n",
       ".pd{\n",
       "    font-family: \"Courier New\", Courier, monospace !important;\n",
       "    width: 100%;\n",
       "    padding: 3px;\n",
       "}\n",
       "</style>\n",
       "\n",
       "<p class=pd>\n",
       "<b>Model</b>: GP regression<br>\n",
       "<b>Objective</b>: 16401707314.23712<br>\n",
       "<b>Number of Parameters</b>: 3<br>\n",
       "<b>Number of Optimization Parameters</b>: 2<br>\n",
       "<b>Updates</b>: True<br>\n",
       "</p>\n",
       "<style type=\"text/css\">\n",
       ".tg  {font-family:\"Courier New\", Courier, monospace !important;padding:2px 3px;word-break:normal;border-collapse:collapse;border-spacing:0;border-color:#DCDCDC;margin:0px auto;width:100%;}\n",
       ".tg td{font-family:\"Courier New\", Courier, monospace !important;font-weight:bold;color:#444;background-color:#F7FDFA;border-style:solid;border-width:1px;overflow:hidden;word-break:normal;border-color:#DCDCDC;}\n",
       ".tg th{font-family:\"Courier New\", Courier, monospace !important;font-weight:normal;color:#fff;background-color:#26ADE4;border-style:solid;border-width:1px;overflow:hidden;word-break:normal;border-color:#DCDCDC;}\n",
       ".tg .tg-left{font-family:\"Courier New\", Courier, monospace !important;font-weight:normal;text-align:left;}\n",
       ".tg .tg-center{font-family:\"Courier New\", Courier, monospace !important;font-weight:normal;text-align:center;}\n",
       ".tg .tg-right{font-family:\"Courier New\", Courier, monospace !important;font-weight:normal;text-align:right;}\n",
       "</style>\n",
       "<table class=\"tg\"><tr><th><b>  GP_regression.           </b></th><th><b>value</b></th><th><b>constraints</b></th><th><b>priors</b></th></tr>\n",
       "<tr><td class=tg-left>  shapeintegral.variance   </td><td class=tg-right>  1.0</td><td class=tg-center>    +ve    </td><td class=tg-center>      </td></tr>\n",
       "<tr><td class=tg-left>  shapeintegral.lengthscale</td><td class=tg-right>  1.0</td><td class=tg-center>    +ve    </td><td class=tg-center>      </td></tr>\n",
       "<tr><td class=tg-left>  Gaussian_noise.variance  </td><td class=tg-right>0.001</td><td class=tg-center> +ve fixed </td><td class=tg-center>      </td></tr>\n",
       "</table>"
      ],
      "text/plain": [
       "<GPy.models.gp_regression.GPRegression at 0x7ff76b9696d8>"
      ]
     },
     "execution_count": 12,
     "metadata": {},
     "output_type": "execute_result"
    }
   ],
   "source": [
    "m"
   ]
  },
  {
   "cell_type": "code",
   "execution_count": 40,
   "metadata": {},
   "outputs": [],
   "source": [
    "Xa,Xb = np.meshgrid(np.linspace(bbox[0],bbox[1],15),np.linspace(bbox[2],bbox[3],15))\n",
    "testX = np.c_[Xa.flatten(),Xb.flatten()]\n",
    "testX = np.c_[testX,np.ones([len(testX),X1.shape[1]-2])]\n",
    "#preds,_ = m.predict_noiseless(testX)"
   ]
  },
  {
   "cell_type": "code",
   "execution_count": 41,
   "metadata": {},
   "outputs": [
    {
     "data": {
      "text/plain": [
       "{'D', 'F', 'O', 'S', 'T'}"
      ]
     },
     "execution_count": 41,
     "metadata": {},
     "output_type": "execute_result"
    }
   ],
   "source": [
    "set(dataset['type'])"
   ]
  },
  {
   "cell_type": "code",
   "execution_count": 42,
   "metadata": {},
   "outputs": [],
   "source": [
    "Z = np.random.rand(40,X[0].shape[1])*4\n",
    "Z[:,0]+=433 #[433,437,382,386])\n",
    "Z[:,1]+=382\n",
    "Z[:,2:-1]=np.NaN\n",
    "Z[:,-1]=1\n",
    "kern_list=[ShapeIntegral(X[0].shape[1],2,kernel=GPy.kern.RBF(2,lengthscale=1.0),Nperunit=2)]"
   ]
  },
  {
   "cell_type": "code",
   "execution_count": 43,
   "metadata": {},
   "outputs": [
    {
     "data": {
      "text/plain": [
       "<matplotlib.collections.PathCollection at 0x7ff77100b048>"
      ]
     },
     "execution_count": 43,
     "metadata": {},
     "output_type": "execute_result"
    },
    {
     "data": {
      "image/png": "[encoded data removed]",
      "text/plain": [
       "<Figure size 1008x1008 with 1 Axes>"
      ]
     },
     "metadata": {},
     "output_type": "display_data"
    }
   ],
   "source": [
    "plt.figure(figsize=[14,14])\n",
    "plt.scatter(X[1][:,0],X[1][:,1],Y[1][:,0]**2)"
   ]
  },
  {
   "cell_type": "code",
   "execution_count": 44,
   "metadata": {},
   "outputs": [],
   "source": [
    "#X[0]=X[0][::1,:]\n",
    "#Y[0]=Y[0][::1,:]\n",
    "X[1]=X[1][::20,:]\n",
    "Y[1]=Y[1][::20,:]"
   ]
  },
  {
   "cell_type": "code",
   "execution_count": 45,
   "metadata": {
    "scrolled": false
   },
   "outputs": [
    {
     "name": "stderr",
     "output_type": "stream",
     "text": [
      " /home/mike/anaconda3/lib/python3.6/site-packages/paramz/transformations.py:111: RuntimeWarning:divide by zero encountered in log\n",
      " /home/mike/Documents/Research/hetMOGPintegral/hetGPIntegralexperiments/shapeintegrals_fast_modified_for_hetGP.py:93: RuntimeWarning:divide by zero encountered in true_divide\n"
     ]
    }
   ],
   "source": [
    "# MODEL and INFERENCE\n",
    "Q=1\n",
    "from HetMOGP.likelihoods.gaussian import Gaussian\n",
    "from HetMOGP.likelihoods.categorical import Categorical\n",
    "from HetMOGP.het_likelihood import HetLikelihood\n",
    "from HetMOGP import util\n",
    "from HetMOGP.svmogp import SVMOGP\n",
    "\n",
    "#likelihoods_list = [Gaussian(sigma=0.001),Bernoulli(gp_link=GPy.likelihoods.link_functions.Probit())]#,Gaussian(sigma=1.0)]\n",
    "likelihoods_list = [Gaussian(sigma=10), Categorical(5)]\n",
    "likelihood = HetLikelihood(likelihoods_list)\n",
    "Y_metadata = likelihood.generate_metadata()\n",
    "\n",
    "D = likelihood.num_output_functions(Y_metadata)\n",
    "\n",
    "W_list, _ = util.random_W_kappas(Q, D, rank=1, experiment=True)\n",
    "\n",
    "\n",
    "model = SVMOGP(X=X, Y=Y, Z=Z, kern_list=kern_list, likelihood=likelihood, Y_metadata=Y_metadata,batch_size=10)"
   ]
  },
  {
   "cell_type": "code",
   "execution_count": 19,
   "metadata": {},
   "outputs": [],
   "source": [
    "model.kern_list[0].variance = 100.0"
   ]
  },
  {
   "cell_type": "code",
   "execution_count": 20,
   "metadata": {},
   "outputs": [
    {
     "data": {
      "text/plain": [
       "(250, 2929)"
      ]
     },
     "execution_count": 20,
     "metadata": {},
     "output_type": "execute_result"
    }
   ],
   "source": [
    "X[1].shape"
   ]
  },
  {
   "cell_type": "code",
   "execution_count": 22,
   "metadata": {},
   "outputs": [
    {
     "data": {
      "text/plain": [
       "array([0])"
      ]
     },
     "execution_count": 22,
     "metadata": {},
     "output_type": "execute_result"
    }
   ],
   "source": [
    "model.kern.lengthscale.fix()\n",
    "model.kern.variance.fix()"
   ]
  },
  {
   "cell_type": "code",
   "execution_count": 23,
   "metadata": {},
   "outputs": [
    {
     "name": "stderr",
     "output_type": "stream",
     "text": [
      " /home/mike/anaconda3/lib/python3.6/site-packages/paramz/transformations.py:111: RuntimeWarning:divide by zero encountered in log\n",
      " /home/mike/Documents/Research/hetMOGPintegral/hetGPIntegralexperiments/shapeintegrals_fast_modified_for_hetGP.py:93: RuntimeWarning:divide by zero encountered in true_divide\n"
     ]
    },
    {
     "name": "stdout",
     "output_type": "stream",
     "text": [
      "iteration (1) VE step, mini-batch log_likelihood=[-inf]\n",
      "iteration (1) VM step, mini-batch log_likelihood=[-inf]\n",
      "iteration (2) VE step, mini-batch log_likelihood=[-inf]\n",
      "iteration (2) VM step, mini-batch log_likelihood=[-inf]\n",
      "iteration (3) VE step, mini-batch log_likelihood=[-inf]\n",
      "iteration (3) VM step, mini-batch log_likelihood=[-inf]\n"
     ]
    }
   ],
   "source": [
    "from HetMOGP.util import vem_algorithm as VEM\n",
    "model=VEM(model,vem_iters=3,maxIter_perVEM=4,optZ=False,verbose=True,verbose_plot=False,non_chained=True)"
   ]
  },
  {
   "cell_type": "code",
   "execution_count": 25,
   "metadata": {},
   "outputs": [
    {
     "data": {
      "text/html": [
       "<style type=\"text/css\">\n",
       ".pd{\n",
       "    font-family: \"Courier New\", Courier, monospace !important;\n",
       "    width: 100%;\n",
       "    padding: 3px;\n",
       "}\n",
       "</style>\n",
       "\n",
       "<p class=pd>\n",
       "<b>Model</b>: SVMOGP<br>\n",
       "<b>Objective</b>: inf<br>\n",
       "<b>Number of Parameters</b>: 118032<br>\n",
       "<b>Number of Optimization Parameters</b>: 7<br>\n",
       "<b>Updates</b>: True<br>\n",
       "</p>\n",
       "<style type=\"text/css\">\n",
       ".tg  {font-family:\"Courier New\", Courier, monospace !important;padding:2px 3px;word-break:normal;border-collapse:collapse;border-spacing:0;border-color:#DCDCDC;margin:0px auto;width:100%;}\n",
       ".tg td{font-family:\"Courier New\", Courier, monospace !important;font-weight:bold;color:#444;background-color:#F7FDFA;border-style:solid;border-width:1px;overflow:hidden;word-break:normal;border-color:#DCDCDC;}\n",
       ".tg th{font-family:\"Courier New\", Courier, monospace !important;font-weight:normal;color:#fff;background-color:#26ADE4;border-style:solid;border-width:1px;overflow:hidden;word-break:normal;border-color:#DCDCDC;}\n",
       ".tg .tg-left{font-family:\"Courier New\", Courier, monospace !important;font-weight:normal;text-align:left;}\n",
       ".tg .tg-center{font-family:\"Courier New\", Courier, monospace !important;font-weight:normal;text-align:center;}\n",
       ".tg .tg-right{font-family:\"Courier New\", Courier, monospace !important;font-weight:normal;text-align:right;}\n",
       "</style>\n",
       "<table class=\"tg\"><tr><th><b>  SVMOGP.                  </b></th><th><b>             value</b></th><th><b>constraints</b></th><th><b>priors</b></th></tr>\n",
       "<tr><td class=tg-left>  inducing inputs          </td><td class=tg-right>        (40, 2929)</td><td class=tg-center>   fixed   </td><td class=tg-center>      </td></tr>\n",
       "<tr><td class=tg-left>  m_u                      </td><td class=tg-right>           (40, 1)</td><td class=tg-center>   fixed   </td><td class=tg-center>      </td></tr>\n",
       "<tr><td class=tg-left>  L_u                      </td><td class=tg-right>          (820, 1)</td><td class=tg-center>   fixed   </td><td class=tg-center>      </td></tr>\n",
       "<tr><td class=tg-left>  shapeintegral.variance   </td><td class=tg-right> 100.1196660986139</td><td class=tg-center>    +ve    </td><td class=tg-center>      </td></tr>\n",
       "<tr><td class=tg-left>  shapeintegral.lengthscale</td><td class=tg-right>0.9265752782879957</td><td class=tg-center>    +ve    </td><td class=tg-center>      </td></tr>\n",
       "<tr><td class=tg-left>  B_q0.W                   </td><td class=tg-right>            (5, 1)</td><td class=tg-center>           </td><td class=tg-center>      </td></tr>\n",
       "<tr><td class=tg-left>  B_q0.kappa               </td><td class=tg-right>              (5,)</td><td class=tg-center> +ve fixed </td><td class=tg-center>      </td></tr>\n",
       "</table>"
      ],
      "text/plain": [
       "<HetMOGP.svmogp.SVMOGP at 0x7ff771187cc0>"
      ]
     },
     "execution_count": 25,
     "metadata": {},
     "output_type": "execute_result"
    }
   ],
   "source": [
    "model"
   ]
  },
  {
   "cell_type": "code",
   "execution_count": 46,
   "metadata": {},
   "outputs": [],
   "source": [
    "preds,_ = model.predictive_f_star(testX)"
   ]
  },
  {
   "cell_type": "code",
   "execution_count": 36,
   "metadata": {},
   "outputs": [
    {
     "data": {
      "text/plain": [
       "array([[ 6.48667427],\n",
       "       [ 4.49033715],\n",
       "       [ 2.75466642],\n",
       "       [ 1.36042984],\n",
       "       [ 0.34483178],\n",
       "       [-0.2975033 ],\n",
       "       [-0.60733642],\n",
       "       [-0.64943998],\n",
       "       [-0.49978853],\n",
       "       [-0.23403738]])"
      ]
     },
     "execution_count": 36,
     "metadata": {},
     "output_type": "execute_result"
    }
   ],
   "source": [
    "preds"
   ]
  },
  {
   "cell_type": "code",
   "execution_count": null,
   "metadata": {},
   "outputs": [],
   "source": [
    "plt.figure(figsize=[20,20])\n",
    "ax=plt.gca()\n",
    "plt.contourf(Xa, Xb, preds.reshape(Xa.shape[0],Xa.shape[1]))\n",
    "plt.colorbar()\n",
    "def plotsimplexes(X,Y,c,lw=1):\n",
    "    for i,(x,y) in enumerate(zip(X,Y)):\n",
    "        #plt.text(x[0],x[1],\"%0.1f\"%y)\n",
    "        if x[-1]==0:\n",
    "            for tri in x[0:-1].reshape(int(len(x)/6),6):\n",
    "                plt.plot(tri[[0,2,4,0]],tri[[1,3,5,1]],c,lw=lw)\n",
    "        else:\n",
    "            plt.plot(x[0],x[1],['xr','ob','+g','.k','bx'][int(y[0])],mew=5,markersize=10)\n",
    "plotsimplexes(X[1],Y[1],'g-')\n",
    "plotsimplexes(X[0],Y[0],'g-')\n",
    "plt.scatter(Z[:,0],Z[:,1])\n",
    "\n",
    "for i in range(len(X[0])):\n",
    "    v = m.kern.placepoints(X[0][i,:-1])[1]\n",
    "    popden = (Y[0][i,0]/v)/10000\n",
    "    if popden>1:\n",
    "        popden=1\n",
    "    c = np.array([popden,popden,popden,1])\n",
    "    plt.scatter(X[0][i,0:-1:2],X[0][i,1::2],1,c=c[None,:])\n",
    "plt.xlim([bbox[0],bbox[1]])\n",
    "plt.ylim([bbox[2],bbox[3]])"
   ]
  },
  {
   "cell_type": "code",
   "execution_count": null,
   "metadata": {},
   "outputs": [],
   "source": [
    "model.predictive(testX[0:1,:],output_function_ind=0)"
   ]
  },
  {
   "cell_type": "code",
   "execution_count": null,
   "metadata": {},
   "outputs": [],
   "source": [
    "model.predictive(oaX1[0:1,:],output_function_ind=0)"
   ]
  },
  {
   "cell_type": "code",
   "execution_count": null,
   "metadata": {},
   "outputs": [],
   "source": [
    "preds,_ = model.predictive(X1[0:1,:],output_function_ind=0)"
   ]
  },
  {
   "cell_type": "code",
   "execution_count": null,
   "metadata": {},
   "outputs": [],
   "source": [
    "preds,_ = model.predictive(oaX1[0:4,:],output_function_ind=0)"
   ]
  }
 ],
 "metadata": {
  "kernelspec": {
   "display_name": "Python 3",
   "language": "python",
   "name": "python3"
  },
  "language_info": {
   "codemirror_mode": {
    "name": "ipython",
    "version": 3
   },
   "file_extension": ".py",
   "mimetype": "text/x-python",
   "name": "python",
   "nbconvert_exporter": "python",
   "pygments_lexer": "ipython3",
   "version": "3.6.8"
  }
 },
 "nbformat": 4,
 "nbformat_minor": 2
}
