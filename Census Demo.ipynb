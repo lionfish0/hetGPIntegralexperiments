{
 "cells": [
  {
   "cell_type": "code",
   "execution_count": 42,
   "metadata": {},
   "outputs": [
    {
     "name": "stdout",
     "output_type": "stream",
     "text": [
      "Trying cache...\n",
      "Cache loaded.\n",
      "Loaded from cache, 22 training polygons and 358 testing polygons\n"
     ]
    }
   ],
   "source": [
    "import matplotlib.pyplot as plt\n",
    "import numpy as np\n",
    "%matplotlib inline\n",
    "#import paper_tools\n",
    "import census\n",
    "import numpy as np\n",
    "#load the census data\n",
    "#sheffield\n",
    "#bbox = np.array([430,440,381,391])\n",
    "bbox = np.array([433,437,384,388])\n",
    "pathtodata = '/home/mike/Documents/Research/SheffieldMLpublications/publications/integralkernel/jupyter/'\n",
    "shapefilename=pathtodata+'oaboundaries/Output_Area_December_2011_Generalised_Clipped_Boundaries_in_England_and_Wales.shp'\n",
    "oafilename=pathtodata+'oa_to_lsoa/OA11_LSOA11_MSOA11_LAD11_EW_LUv2.csv'\n",
    "randomoafilename = pathtodata+'oa_to_lsoa/RANDOM_SOAS_2.csv' #this file contains MSOA that have been randomly assigned\n",
    "oadescfilename=pathtodata+'oadata/KS102ew_2011_oa/KS102EW_2011STATH_NAT_OA_REL_1.4.4/KS102EWDESC0.CSV'\n",
    "oadatafilename=pathtodata+'oadata/KS102ew_2011_oa/KS102EWDATA.CSV'\n",
    "\n",
    "#X,Y,testX,testY = census.get_census_data(box=bbox*1000,verbose=True)\n",
    "X,Y,testX,testY = census.get_census_data(shapefilename=shapefilename,\n",
    "                                         oafilename=oafilename,\n",
    "                                         oadescfilename=oadescfilename,\n",
    "                                         oadatafilename=oadatafilename,\n",
    "                                         box=bbox*1000,verbose=True,refresh=False)\n",
    "X = np.c_[X,np.zeros([len(X),1])]\n",
    "testX = np.c_[testX,np.zeros([len(testX),1])]"
   ]
  },
  {
   "cell_type": "code",
   "execution_count": 43,
   "metadata": {},
   "outputs": [
    {
     "data": {
      "text/plain": [
       "(22, 2779)"
      ]
     },
     "execution_count": 43,
     "metadata": {},
     "output_type": "execute_result"
    }
   ],
   "source": [
    "X.shape"
   ]
  },
  {
   "cell_type": "code",
   "execution_count": 44,
   "metadata": {},
   "outputs": [
    {
     "data": {
      "text/plain": [
       "(358, 2779)"
      ]
     },
     "execution_count": 44,
     "metadata": {},
     "output_type": "execute_result"
    }
   ],
   "source": [
    "testX.shape"
   ]
  },
  {
   "cell_type": "code",
   "execution_count": 45,
   "metadata": {},
   "outputs": [
    {
     "data": {
      "text/plain": [
       "array([[ 1135],\n",
       "       [ 7229],\n",
       "       [ 8525],\n",
       "       [ 9152],\n",
       "       [  597],\n",
       "       [ 1214],\n",
       "       [  905],\n",
       "       [ 7134],\n",
       "       [ 7464],\n",
       "       [ 7799],\n",
       "       [ 9831],\n",
       "       [ 5511],\n",
       "       [ 5105],\n",
       "       [ 8734],\n",
       "       [ 7966],\n",
       "       [ 5864],\n",
       "       [ 1567],\n",
       "       [12330],\n",
       "       [ 9106],\n",
       "       [  409],\n",
       "       [  999],\n",
       "       [  400]])"
      ]
     },
     "execution_count": 45,
     "metadata": {},
     "output_type": "execute_result"
    }
   ],
   "source": [
    "Y"
   ]
  },
  {
   "cell_type": "code",
   "execution_count": 48,
   "metadata": {},
   "outputs": [
    {
     "name": "stderr",
     "output_type": "stream",
     "text": [
      " /home/mike/Documents/Research/hetMOGPintegral/hetGPIntegralexperiments/shapeintegrals_fast_modified_for_hetGP.py:93: RuntimeWarning:divide by zero encountered in true_divide\n"
     ]
    }
   ],
   "source": [
    "from shapeintegrals_fast_modified_for_hetGP import ShapeIntegral\n",
    "import GPy\n",
    "kern = GPy.kern.RBF(2, lengthscale=10.0, variance = 1.0, ARD=False)\n",
    "oldshapek = ShapeIntegral(X.shape[1],input_space_dim=2,Nperunit=5,kernel=kern)\n",
    "m = GPy.models.GPRegression(X,Y,oldshapek)\n",
    "m.Gaussian_noise=10.0\n",
    "#predY,_=m.predict(testX)#[0:3,:]"
   ]
  },
  {
   "cell_type": "code",
   "execution_count": 49,
   "metadata": {},
   "outputs": [
    {
     "data": {
      "image/png": "[encoded data removed]",
      "text/plain": [
       "<Figure size 432x288 with 1 Axes>"
      ]
     },
     "metadata": {},
     "output_type": "display_data"
    }
   ],
   "source": [
    "def plotsimplexes(X,c='k',lw=1):\n",
    "    for x in X:\n",
    "        if x[-1]==0:\n",
    "            for tri in x[0:-1].reshape(int(len(x)/6),6):\n",
    "                plt.plot(tri[[0,2,4,0]],tri[[1,3,5,1]],c,lw=lw)\n",
    "        else:\n",
    "            print(\"PLOTTING A POINT! AHH\")\n",
    "            plt.plot(x[0],x[1],'x'+c,mew=5,markersize=20)\n",
    "\n",
    "for i,c in enumerate(['b','k','r','g','y']):\n",
    "    plotsimplexes(X[i:(i+1),:],c)\n",
    "plt.axis('equal');"
   ]
  },
  {
   "cell_type": "code",
   "execution_count": null,
   "metadata": {},
   "outputs": [
    {
     "name": "stderr",
     "output_type": "stream",
     "text": [
      " /home/mike/Documents/Research/hetMOGPintegral/hetGPIntegralexperiments/shapeintegrals_fast_modified_for_hetGP.py:93: RuntimeWarning:divide by zero encountered in true_divide\n"
     ]
    }
   ],
   "source": [
    "Xa,Xb = np.meshgrid(np.linspace(432,438,5),np.linspace(383,388,5))\n",
    "testX = np.c_[Xa.flatten(),Xb.flatten()]\n",
    "testX = np.c_[testX,np.ones([len(testX),11])]\n",
    "m.optimize()\n",
    "preds,_ = m.predict_noiseless(testX)"
   ]
  },
  {
   "cell_type": "code",
   "execution_count": null,
   "metadata": {},
   "outputs": [],
   "source": []
  }
 ],
 "metadata": {
  "kernelspec": {
   "display_name": "Python 3",
   "language": "python",
   "name": "python3"
  },
  "language_info": {
   "codemirror_mode": {
    "name": "ipython",
    "version": 3
   },
   "file_extension": ".py",
   "mimetype": "text/x-python",
   "name": "python",
   "nbconvert_exporter": "python",
   "pygments_lexer": "ipython3",
   "version": "3.6.8"
  }
 },
 "nbformat": 4,
 "nbformat_minor": 2
}
