{
 "cells": [
  {
   "cell_type": "code",
   "execution_count": 1,
   "metadata": {},
   "outputs": [],
   "source": [
    "import matplotlib.pyplot as plt\n",
    "import numpy as np\n",
    "%matplotlib inline\n",
    "import numpy as np\n",
    "from shapeintegrals_fast_modified_for_hetGP import ShapeIntegral\n",
    "import GPy\n",
    "from scipy.stats import multinomial\n",
    "from scipy.linalg.blas import dtrmm\n",
    "from GPy.util import choleskies\n",
    "from GPy.core.parameterization.param import Param\n",
    "from GPy.kern import Coregionalize\n",
    "from GPy.likelihoods import Likelihood\n",
    "from GPy.util import linalg\n",
    "import random\n",
    "from HetMOGP.likelihoods.gaussian import Gaussian\n",
    "from HetMOGP.likelihoods.categorical import Categorical\n",
    "from HetMOGP.het_likelihood import HetLikelihood\n",
    "from HetMOGP import util\n",
    "from HetMOGP.svmogp import SVMOGP\n",
    "\n",
    "from shapeintegrals_fast_modified_for_hetGP import ShapeIntegral\n",
    "\n",
    "\n",
    "\n",
    "X1 = []\n",
    "X2 = []\n",
    "Y1 = []\n",
    "Y2 = []\n",
    "for i in range(4):\n",
    "    for j in range(4):\n",
    "        square = np.array([0,0,1,0,0,1,0,1,1,0,1,1,0])*1.0\n",
    "        square[:12:2]+=i\n",
    "        square[1:12:2]+=j\n",
    "        X1.append(square)\n",
    "        Y1.append(i)\n",
    "        \n",
    "        if j<5:\n",
    "            point = np.full(13,np.NaN)\n",
    "            point[0] = i\n",
    "            point[1] = j\n",
    "            point[-1] = 1\n",
    "            X2.append(point)\n",
    "            Y2.append(i)\n",
    "X1 = np.array(X1)\n",
    "Y1 = np.array(Y1)[:,None]\n",
    "X2 = np.array(X2)\n",
    "Y2 = np.array(Y2)[:,None]\n",
    "numz = 20\n",
    "Z = np.full([numz,X1.shape[1]],np.NaN)\n",
    "Z[:,0:2] = np.random.rand(numz,2)\n",
    "Z[:,0]=Z[:,0]*10\n",
    "Z[:,-1]=1\n",
    "X = [X1,X2]\n",
    "Y = [Y1,Y2]\n",
    "Y2 = Y1.copy()\n",
    "#kern = GPy.kern.RBF(2, lengthscale=10.0, variance = 1.0, ARD=False)\n",
    "#oldshapek = ShapeIntegral(X1.shape[1],input_space_dim=2,Nperunit=5,kernel=kern)"
   ]
  },
  {
   "cell_type": "code",
   "execution_count": 2,
   "metadata": {},
   "outputs": [
    {
     "data": {
      "image/png": "[encoded data removed]",
      "text/plain": [
       "<Figure size 432x288 with 1 Axes>"
      ]
     },
     "metadata": {},
     "output_type": "display_data"
    }
   ],
   "source": [
    "def plotsimplexes(X,Y,c,lw=1):\n",
    "    for i,(x,y) in enumerate(zip(X,Y)):\n",
    "        #plt.text(x[0],x[1],\"%0.1f\"%y)\n",
    "        if x[-1]==0:\n",
    "            for tri in x[0:-1].reshape(int(len(x)/6),6):\n",
    "                plt.plot(tri[[0,2,4,0]],tri[[1,3,5,1]],c,lw=lw)\n",
    "        else:\n",
    "            plt.scatter(x[0],x[1],color=c)\n",
    "plotsimplexes(X1,Y1,'b')\n",
    "plotsimplexes(X2,Y2,'r')"
   ]
  },
  {
   "cell_type": "code",
   "execution_count": 14,
   "metadata": {},
   "outputs": [
    {
     "name": "stderr",
     "output_type": "stream",
     "text": [
      " /home/mike/anaconda3/lib/python3.6/site-packages/paramz/transformations.py:111: RuntimeWarning:divide by zero encountered in log\n",
      " /home/mike/Documents/Research/hetMOGPintegral/hetGPIntegralexperiments/shapeintegrals_fast_modified_for_hetGP.py:93: RuntimeWarning:divide by zero encountered in true_divide\n"
     ]
    },
    {
     "data": {
      "text/plain": [
       "array([0])"
      ]
     },
     "execution_count": 14,
     "metadata": {},
     "output_type": "execute_result"
    }
   ],
   "source": [
    "likelihoods_list = [Gaussian(sigma=0.1), Gaussian(sigma=0.1)]\n",
    "likelihood = HetLikelihood(likelihoods_list)\n",
    "Y_metadata = likelihood.generate_metadata()\n",
    "\n",
    "D = likelihood.num_output_functions(Y_metadata)\n",
    "Q = 1\n",
    "W_list, _ = util.random_W_kappas(Q, D, rank=1, experiment=True)\n",
    "\n",
    "kern_list=[ShapeIntegral(X[0].shape[1],2,kernel=GPy.kern.RBF(2,lengthscale=1.0),Nperunit=3)]\n",
    "model = SVMOGP(X=X, Y=Y, Z=Z, kern_list=kern_list, likelihood=likelihood, Y_metadata=Y_metadata,batch_size=5)\n",
    "model.kern.lengthscale.fix(1.0)\n",
    "model.kern.variance.fix(10.0)"
   ]
  },
  {
   "cell_type": "code",
   "execution_count": 15,
   "metadata": {},
   "outputs": [
    {
     "name": "stderr",
     "output_type": "stream",
     "text": [
      " /home/mike/anaconda3/lib/python3.6/site-packages/paramz/transformations.py:111: RuntimeWarning:divide by zero encountered in log\n",
      " /home/mike/Documents/Research/hetMOGPintegral/hetGPIntegralexperiments/shapeintegrals_fast_modified_for_hetGP.py:93: RuntimeWarning:divide by zero encountered in true_divide\n"
     ]
    },
    {
     "name": "stdout",
     "output_type": "stream",
     "text": [
      "iteration (1) VE step, mini-batch log_likelihood=[-420610.85525886]\n",
      "iteration (1) VM step, mini-batch log_likelihood=[-4118006.99931384]\n",
      "iteration (2) VE step, mini-batch log_likelihood=[-2240136.75252587]\n",
      "iteration (2) VM step, mini-batch log_likelihood=[-515448.73490734]\n",
      "iteration (3) VE step, mini-batch log_likelihood=[-168567.59351232]\n",
      "iteration (3) VM step, mini-batch log_likelihood=[-1914434.00635072]\n",
      "iteration (4) VE step, mini-batch log_likelihood=[-734719.88716664]\n",
      "iteration (4) VM step, mini-batch log_likelihood=[-181421.12502896]\n",
      "iteration (5) VE step, mini-batch log_likelihood=[-71199.21941248]\n",
      "iteration (5) VM step, mini-batch log_likelihood=[-847259.06684051]\n"
     ]
    }
   ],
   "source": [
    "from HetMOGP.util import vem_algorithm as VEM\n",
    "\n",
    "model=VEM(model,vem_iters=5,maxIter_perVEM=4,optZ=False,verbose=True,verbose_plot=False,non_chained=True)"
   ]
  },
  {
   "cell_type": "code",
   "execution_count": 16,
   "metadata": {},
   "outputs": [
    {
     "data": {
      "text/plain": [
       "(array([[-0.01001522],\n",
       "        [ 0.31879329],\n",
       "        [ 0.21947623],\n",
       "        [ 0.0790081 ],\n",
       "        [ 0.04891922],\n",
       "        [-0.34174934],\n",
       "        [ 0.0687199 ],\n",
       "        [ 0.00799226],\n",
       "        [ 0.10503903],\n",
       "        [-0.12586391],\n",
       "        [ 0.3651027 ],\n",
       "        [ 0.07467626],\n",
       "        [ 0.20447539],\n",
       "        [ 1.35043851],\n",
       "        [ 0.87473654],\n",
       "        [ 0.39209663]]), array([[3.77802261e+00],\n",
       "        [3.63590114e+02],\n",
       "        [1.27129555e+02],\n",
       "        [2.14307190e+01],\n",
       "        [1.87629129e+00],\n",
       "        [1.10538406e+01],\n",
       "        [7.59509457e+01],\n",
       "        [8.18730853e+00],\n",
       "        [3.03093125e+00],\n",
       "        [2.47456630e+01],\n",
       "        [3.26707299e+02],\n",
       "        [1.93392759e+01],\n",
       "        [5.19288495e+01],\n",
       "        [2.64519882e+03],\n",
       "        [1.10843453e+03],\n",
       "        [2.20051865e+02]]))"
      ]
     },
     "execution_count": 16,
     "metadata": {},
     "output_type": "execute_result"
    }
   ],
   "source": [
    "model.predictive_f_star(X1)"
   ]
  },
  {
   "cell_type": "code",
   "execution_count": 17,
   "metadata": {},
   "outputs": [],
   "source": [
    "testX = np.full([100,X1.shape[1]],np.NaN)\n",
    "testX[:,0] = np.linspace(0,2,100)\n",
    "testX[:,1] = 0.5\n",
    "testX[:,-1] = 1\n",
    "predY, varY = model.predictive_f_star(X1)"
   ]
  },
  {
   "cell_type": "code",
   "execution_count": 18,
   "metadata": {},
   "outputs": [
    {
     "data": {
      "text/plain": [
       "[array([[0., 0., 1., 0., 0., 1., 0., 1., 1., 0., 1., 1., 0.],\n",
       "        [0., 1., 1., 1., 0., 2., 0., 2., 1., 1., 1., 2., 0.],\n",
       "        [0., 2., 1., 2., 0., 3., 0., 3., 1., 2., 1., 3., 0.],\n",
       "        [0., 3., 1., 3., 0., 4., 0., 4., 1., 3., 1., 4., 0.],\n",
       "        [1., 0., 2., 0., 1., 1., 1., 1., 2., 0., 2., 1., 0.],\n",
       "        [1., 1., 2., 1., 1., 2., 1., 2., 2., 1., 2., 2., 0.],\n",
       "        [1., 2., 2., 2., 1., 3., 1., 3., 2., 2., 2., 3., 0.],\n",
       "        [1., 3., 2., 3., 1., 4., 1., 4., 2., 3., 2., 4., 0.],\n",
       "        [2., 0., 3., 0., 2., 1., 2., 1., 3., 0., 3., 1., 0.],\n",
       "        [2., 1., 3., 1., 2., 2., 2., 2., 3., 1., 3., 2., 0.],\n",
       "        [2., 2., 3., 2., 2., 3., 2., 3., 3., 2., 3., 3., 0.],\n",
       "        [2., 3., 3., 3., 2., 4., 2., 4., 3., 3., 3., 4., 0.],\n",
       "        [3., 0., 4., 0., 3., 1., 3., 1., 4., 0., 4., 1., 0.],\n",
       "        [3., 1., 4., 1., 3., 2., 3., 2., 4., 1., 4., 2., 0.],\n",
       "        [3., 2., 4., 2., 3., 3., 3., 3., 4., 2., 4., 3., 0.],\n",
       "        [3., 3., 4., 3., 3., 4., 3., 4., 4., 3., 4., 4., 0.]]),\n",
       " array([[ 0.,  0., nan, nan, nan, nan, nan, nan, nan, nan, nan, nan,  1.],\n",
       "        [ 0.,  1., nan, nan, nan, nan, nan, nan, nan, nan, nan, nan,  1.],\n",
       "        [ 0.,  2., nan, nan, nan, nan, nan, nan, nan, nan, nan, nan,  1.],\n",
       "        [ 0.,  3., nan, nan, nan, nan, nan, nan, nan, nan, nan, nan,  1.],\n",
       "        [ 1.,  0., nan, nan, nan, nan, nan, nan, nan, nan, nan, nan,  1.],\n",
       "        [ 1.,  1., nan, nan, nan, nan, nan, nan, nan, nan, nan, nan,  1.],\n",
       "        [ 1.,  2., nan, nan, nan, nan, nan, nan, nan, nan, nan, nan,  1.],\n",
       "        [ 1.,  3., nan, nan, nan, nan, nan, nan, nan, nan, nan, nan,  1.],\n",
       "        [ 2.,  0., nan, nan, nan, nan, nan, nan, nan, nan, nan, nan,  1.],\n",
       "        [ 2.,  1., nan, nan, nan, nan, nan, nan, nan, nan, nan, nan,  1.],\n",
       "        [ 2.,  2., nan, nan, nan, nan, nan, nan, nan, nan, nan, nan,  1.],\n",
       "        [ 2.,  3., nan, nan, nan, nan, nan, nan, nan, nan, nan, nan,  1.],\n",
       "        [ 3.,  0., nan, nan, nan, nan, nan, nan, nan, nan, nan, nan,  1.],\n",
       "        [ 3.,  1., nan, nan, nan, nan, nan, nan, nan, nan, nan, nan,  1.],\n",
       "        [ 3.,  2., nan, nan, nan, nan, nan, nan, nan, nan, nan, nan,  1.],\n",
       "        [ 3.,  3., nan, nan, nan, nan, nan, nan, nan, nan, nan, nan,  1.]])]"
      ]
     },
     "execution_count": 18,
     "metadata": {},
     "output_type": "execute_result"
    }
   ],
   "source": [
    "X"
   ]
  },
  {
   "cell_type": "code",
   "execution_count": 19,
   "metadata": {},
   "outputs": [
    {
     "data": {
      "text/plain": [
       "(0, 10)"
      ]
     },
     "execution_count": 19,
     "metadata": {},
     "output_type": "execute_result"
    },
    {
     "data": {
      "image/png": "[encoded data removed]",
      "text/plain": [
       "<Figure size 432x288 with 1 Axes>"
      ]
     },
     "metadata": {},
     "output_type": "display_data"
    }
   ],
   "source": [
    "plt.plot(Y1[:,0], predY,'x')\n",
    "plt.xlim([0,10])\n",
    "plt.ylim([0,10])"
   ]
  },
  {
   "cell_type": "code",
   "execution_count": 12,
   "metadata": {},
   "outputs": [
    {
     "ename": "ValueError",
     "evalue": "x and y must have same first dimension, but have shapes (100,) and (16, 1)",
     "output_type": "error",
     "traceback": [
      "\u001b[0;31m---------------------------------------------------------------------------\u001b[0m",
      "\u001b[0;31mValueError\u001b[0m                                Traceback (most recent call last)",
      "\u001b[0;32m<ipython-input-12-8f280fffc229>\u001b[0m in \u001b[0;36m<module>\u001b[0;34m()\u001b[0m\n\u001b[0;32m----> 1\u001b[0;31m \u001b[0mplt\u001b[0m\u001b[0;34m.\u001b[0m\u001b[0mplot\u001b[0m\u001b[0;34m(\u001b[0m\u001b[0mtestX\u001b[0m\u001b[0;34m[\u001b[0m\u001b[0;34m:\u001b[0m\u001b[0;34m,\u001b[0m\u001b[0;36m0\u001b[0m\u001b[0;34m]\u001b[0m\u001b[0;34m,\u001b[0m\u001b[0mpredY\u001b[0m\u001b[0;34m,\u001b[0m\u001b[0;34m'-k'\u001b[0m\u001b[0;34m,\u001b[0m\u001b[0malpha\u001b[0m\u001b[0;34m=\u001b[0m\u001b[0;36m1\u001b[0m\u001b[0;34m)\u001b[0m\u001b[0;34m\u001b[0m\u001b[0;34m\u001b[0m\u001b[0m\n\u001b[0m\u001b[1;32m      2\u001b[0m \u001b[0mplt\u001b[0m\u001b[0;34m.\u001b[0m\u001b[0mplot\u001b[0m\u001b[0;34m(\u001b[0m\u001b[0mtestX\u001b[0m\u001b[0;34m[\u001b[0m\u001b[0;34m:\u001b[0m\u001b[0;34m,\u001b[0m\u001b[0;36m0\u001b[0m\u001b[0;34m]\u001b[0m\u001b[0;34m,\u001b[0m\u001b[0mpredY\u001b[0m\u001b[0;34m+\u001b[0m\u001b[0mnp\u001b[0m\u001b[0;34m.\u001b[0m\u001b[0msqrt\u001b[0m\u001b[0;34m(\u001b[0m\u001b[0mvarY\u001b[0m\u001b[0;34m)\u001b[0m\u001b[0;34m,\u001b[0m\u001b[0;34m'-k'\u001b[0m\u001b[0;34m,\u001b[0m\u001b[0malpha\u001b[0m\u001b[0;34m=\u001b[0m\u001b[0;36m0.2\u001b[0m\u001b[0;34m)\u001b[0m\u001b[0;34m\u001b[0m\u001b[0;34m\u001b[0m\u001b[0m\n\u001b[1;32m      3\u001b[0m \u001b[0mplt\u001b[0m\u001b[0;34m.\u001b[0m\u001b[0mplot\u001b[0m\u001b[0;34m(\u001b[0m\u001b[0mtestX\u001b[0m\u001b[0;34m[\u001b[0m\u001b[0;34m:\u001b[0m\u001b[0;34m,\u001b[0m\u001b[0;36m0\u001b[0m\u001b[0;34m]\u001b[0m\u001b[0;34m,\u001b[0m\u001b[0mpredY\u001b[0m\u001b[0;34m-\u001b[0m\u001b[0mnp\u001b[0m\u001b[0;34m.\u001b[0m\u001b[0msqrt\u001b[0m\u001b[0;34m(\u001b[0m\u001b[0mvarY\u001b[0m\u001b[0;34m)\u001b[0m\u001b[0;34m,\u001b[0m\u001b[0;34m'-k'\u001b[0m\u001b[0;34m,\u001b[0m\u001b[0malpha\u001b[0m\u001b[0;34m=\u001b[0m\u001b[0;36m0.2\u001b[0m\u001b[0;34m)\u001b[0m\u001b[0;34m\u001b[0m\u001b[0;34m\u001b[0m\u001b[0m\n\u001b[1;32m      4\u001b[0m \u001b[0;31m#plt.ylim([-5,5])\u001b[0m\u001b[0;34m\u001b[0m\u001b[0;34m\u001b[0m\u001b[0;34m\u001b[0m\u001b[0m\n\u001b[1;32m      5\u001b[0m \u001b[0mplt\u001b[0m\u001b[0;34m.\u001b[0m\u001b[0mgrid\u001b[0m\u001b[0;34m(\u001b[0m\u001b[0;34m)\u001b[0m\u001b[0;34m\u001b[0m\u001b[0;34m\u001b[0m\u001b[0m\n",
      "\u001b[0;32m~/anaconda3/lib/python3.6/site-packages/matplotlib/pyplot.py\u001b[0m in \u001b[0;36mplot\u001b[0;34m(scalex, scaley, data, *args, **kwargs)\u001b[0m\n\u001b[1;32m   2811\u001b[0m     return gca().plot(\n\u001b[1;32m   2812\u001b[0m         *args, scalex=scalex, scaley=scaley, **({\"data\": data} if data\n\u001b[0;32m-> 2813\u001b[0;31m         is not None else {}), **kwargs)\n\u001b[0m\u001b[1;32m   2814\u001b[0m \u001b[0;34m\u001b[0m\u001b[0m\n\u001b[1;32m   2815\u001b[0m \u001b[0;34m\u001b[0m\u001b[0m\n",
      "\u001b[0;32m~/anaconda3/lib/python3.6/site-packages/matplotlib/__init__.py\u001b[0m in \u001b[0;36minner\u001b[0;34m(ax, data, *args, **kwargs)\u001b[0m\n\u001b[1;32m   1808\u001b[0m                         \u001b[0;34m\"the Matplotlib list!)\"\u001b[0m \u001b[0;34m%\u001b[0m \u001b[0;34m(\u001b[0m\u001b[0mlabel_namer\u001b[0m\u001b[0;34m,\u001b[0m \u001b[0mfunc\u001b[0m\u001b[0;34m.\u001b[0m\u001b[0m__name__\u001b[0m\u001b[0;34m)\u001b[0m\u001b[0;34m,\u001b[0m\u001b[0;34m\u001b[0m\u001b[0;34m\u001b[0m\u001b[0m\n\u001b[1;32m   1809\u001b[0m                         RuntimeWarning, stacklevel=2)\n\u001b[0;32m-> 1810\u001b[0;31m             \u001b[0;32mreturn\u001b[0m \u001b[0mfunc\u001b[0m\u001b[0;34m(\u001b[0m\u001b[0max\u001b[0m\u001b[0;34m,\u001b[0m \u001b[0;34m*\u001b[0m\u001b[0margs\u001b[0m\u001b[0;34m,\u001b[0m \u001b[0;34m**\u001b[0m\u001b[0mkwargs\u001b[0m\u001b[0;34m)\u001b[0m\u001b[0;34m\u001b[0m\u001b[0;34m\u001b[0m\u001b[0m\n\u001b[0m\u001b[1;32m   1811\u001b[0m \u001b[0;34m\u001b[0m\u001b[0m\n\u001b[1;32m   1812\u001b[0m         inner.__doc__ = _add_data_doc(inner.__doc__,\n",
      "\u001b[0;32m~/anaconda3/lib/python3.6/site-packages/matplotlib/axes/_axes.py\u001b[0m in \u001b[0;36mplot\u001b[0;34m(self, scalex, scaley, *args, **kwargs)\u001b[0m\n\u001b[1;32m   1609\u001b[0m         \u001b[0mkwargs\u001b[0m \u001b[0;34m=\u001b[0m \u001b[0mcbook\u001b[0m\u001b[0;34m.\u001b[0m\u001b[0mnormalize_kwargs\u001b[0m\u001b[0;34m(\u001b[0m\u001b[0mkwargs\u001b[0m\u001b[0;34m,\u001b[0m \u001b[0mmlines\u001b[0m\u001b[0;34m.\u001b[0m\u001b[0mLine2D\u001b[0m\u001b[0;34m.\u001b[0m\u001b[0m_alias_map\u001b[0m\u001b[0;34m)\u001b[0m\u001b[0;34m\u001b[0m\u001b[0;34m\u001b[0m\u001b[0m\n\u001b[1;32m   1610\u001b[0m \u001b[0;34m\u001b[0m\u001b[0m\n\u001b[0;32m-> 1611\u001b[0;31m         \u001b[0;32mfor\u001b[0m \u001b[0mline\u001b[0m \u001b[0;32min\u001b[0m \u001b[0mself\u001b[0m\u001b[0;34m.\u001b[0m\u001b[0m_get_lines\u001b[0m\u001b[0;34m(\u001b[0m\u001b[0;34m*\u001b[0m\u001b[0margs\u001b[0m\u001b[0;34m,\u001b[0m \u001b[0;34m**\u001b[0m\u001b[0mkwargs\u001b[0m\u001b[0;34m)\u001b[0m\u001b[0;34m:\u001b[0m\u001b[0;34m\u001b[0m\u001b[0;34m\u001b[0m\u001b[0m\n\u001b[0m\u001b[1;32m   1612\u001b[0m             \u001b[0mself\u001b[0m\u001b[0;34m.\u001b[0m\u001b[0madd_line\u001b[0m\u001b[0;34m(\u001b[0m\u001b[0mline\u001b[0m\u001b[0;34m)\u001b[0m\u001b[0;34m\u001b[0m\u001b[0;34m\u001b[0m\u001b[0m\n\u001b[1;32m   1613\u001b[0m             \u001b[0mlines\u001b[0m\u001b[0;34m.\u001b[0m\u001b[0mappend\u001b[0m\u001b[0;34m(\u001b[0m\u001b[0mline\u001b[0m\u001b[0;34m)\u001b[0m\u001b[0;34m\u001b[0m\u001b[0;34m\u001b[0m\u001b[0m\n",
      "\u001b[0;32m~/anaconda3/lib/python3.6/site-packages/matplotlib/axes/_base.py\u001b[0m in \u001b[0;36m_grab_next_args\u001b[0;34m(self, *args, **kwargs)\u001b[0m\n\u001b[1;32m    391\u001b[0m                 \u001b[0mthis\u001b[0m \u001b[0;34m+=\u001b[0m \u001b[0margs\u001b[0m\u001b[0;34m[\u001b[0m\u001b[0;36m0\u001b[0m\u001b[0;34m]\u001b[0m\u001b[0;34m,\u001b[0m\u001b[0;34m\u001b[0m\u001b[0;34m\u001b[0m\u001b[0m\n\u001b[1;32m    392\u001b[0m                 \u001b[0margs\u001b[0m \u001b[0;34m=\u001b[0m \u001b[0margs\u001b[0m\u001b[0;34m[\u001b[0m\u001b[0;36m1\u001b[0m\u001b[0;34m:\u001b[0m\u001b[0;34m]\u001b[0m\u001b[0;34m\u001b[0m\u001b[0;34m\u001b[0m\u001b[0m\n\u001b[0;32m--> 393\u001b[0;31m             \u001b[0;32myield\u001b[0m \u001b[0;32mfrom\u001b[0m \u001b[0mself\u001b[0m\u001b[0;34m.\u001b[0m\u001b[0m_plot_args\u001b[0m\u001b[0;34m(\u001b[0m\u001b[0mthis\u001b[0m\u001b[0;34m,\u001b[0m \u001b[0mkwargs\u001b[0m\u001b[0;34m)\u001b[0m\u001b[0;34m\u001b[0m\u001b[0;34m\u001b[0m\u001b[0m\n\u001b[0m\u001b[1;32m    394\u001b[0m \u001b[0;34m\u001b[0m\u001b[0m\n\u001b[1;32m    395\u001b[0m \u001b[0;34m\u001b[0m\u001b[0m\n",
      "\u001b[0;32m~/anaconda3/lib/python3.6/site-packages/matplotlib/axes/_base.py\u001b[0m in \u001b[0;36m_plot_args\u001b[0;34m(self, tup, kwargs)\u001b[0m\n\u001b[1;32m    368\u001b[0m             \u001b[0mx\u001b[0m\u001b[0;34m,\u001b[0m \u001b[0my\u001b[0m \u001b[0;34m=\u001b[0m \u001b[0mindex_of\u001b[0m\u001b[0;34m(\u001b[0m\u001b[0mtup\u001b[0m\u001b[0;34m[\u001b[0m\u001b[0;34m-\u001b[0m\u001b[0;36m1\u001b[0m\u001b[0;34m]\u001b[0m\u001b[0;34m)\u001b[0m\u001b[0;34m\u001b[0m\u001b[0;34m\u001b[0m\u001b[0m\n\u001b[1;32m    369\u001b[0m \u001b[0;34m\u001b[0m\u001b[0m\n\u001b[0;32m--> 370\u001b[0;31m         \u001b[0mx\u001b[0m\u001b[0;34m,\u001b[0m \u001b[0my\u001b[0m \u001b[0;34m=\u001b[0m \u001b[0mself\u001b[0m\u001b[0;34m.\u001b[0m\u001b[0m_xy_from_xy\u001b[0m\u001b[0;34m(\u001b[0m\u001b[0mx\u001b[0m\u001b[0;34m,\u001b[0m \u001b[0my\u001b[0m\u001b[0;34m)\u001b[0m\u001b[0;34m\u001b[0m\u001b[0;34m\u001b[0m\u001b[0m\n\u001b[0m\u001b[1;32m    371\u001b[0m \u001b[0;34m\u001b[0m\u001b[0m\n\u001b[1;32m    372\u001b[0m         \u001b[0;32mif\u001b[0m \u001b[0mself\u001b[0m\u001b[0;34m.\u001b[0m\u001b[0mcommand\u001b[0m \u001b[0;34m==\u001b[0m \u001b[0;34m'plot'\u001b[0m\u001b[0;34m:\u001b[0m\u001b[0;34m\u001b[0m\u001b[0;34m\u001b[0m\u001b[0m\n",
      "\u001b[0;32m~/anaconda3/lib/python3.6/site-packages/matplotlib/axes/_base.py\u001b[0m in \u001b[0;36m_xy_from_xy\u001b[0;34m(self, x, y)\u001b[0m\n\u001b[1;32m    229\u001b[0m         \u001b[0;32mif\u001b[0m \u001b[0mx\u001b[0m\u001b[0;34m.\u001b[0m\u001b[0mshape\u001b[0m\u001b[0;34m[\u001b[0m\u001b[0;36m0\u001b[0m\u001b[0;34m]\u001b[0m \u001b[0;34m!=\u001b[0m \u001b[0my\u001b[0m\u001b[0;34m.\u001b[0m\u001b[0mshape\u001b[0m\u001b[0;34m[\u001b[0m\u001b[0;36m0\u001b[0m\u001b[0;34m]\u001b[0m\u001b[0;34m:\u001b[0m\u001b[0;34m\u001b[0m\u001b[0;34m\u001b[0m\u001b[0m\n\u001b[1;32m    230\u001b[0m             raise ValueError(\"x and y must have same first dimension, but \"\n\u001b[0;32m--> 231\u001b[0;31m                              \"have shapes {} and {}\".format(x.shape, y.shape))\n\u001b[0m\u001b[1;32m    232\u001b[0m         \u001b[0;32mif\u001b[0m \u001b[0mx\u001b[0m\u001b[0;34m.\u001b[0m\u001b[0mndim\u001b[0m \u001b[0;34m>\u001b[0m \u001b[0;36m2\u001b[0m \u001b[0;32mor\u001b[0m \u001b[0my\u001b[0m\u001b[0;34m.\u001b[0m\u001b[0mndim\u001b[0m \u001b[0;34m>\u001b[0m \u001b[0;36m2\u001b[0m\u001b[0;34m:\u001b[0m\u001b[0;34m\u001b[0m\u001b[0;34m\u001b[0m\u001b[0m\n\u001b[1;32m    233\u001b[0m             raise ValueError(\"x and y can be no greater than 2-D, but have \"\n",
      "\u001b[0;31mValueError\u001b[0m: x and y must have same first dimension, but have shapes (100,) and (16, 1)"
     ]
    },
    {
     "data": {
      "image/png": "[encoded data removed]",
      "text/plain": [
       "<Figure size 432x288 with 1 Axes>"
      ]
     },
     "metadata": {},
     "output_type": "display_data"
    }
   ],
   "source": [
    "plt.plot(testX[:,0],predY,'-k',alpha=1)\n",
    "plt.plot(testX[:,0],predY+np.sqrt(varY),'-k',alpha=0.2)\n",
    "plt.plot(testX[:,0],predY-np.sqrt(varY),'-k',alpha=0.2)\n",
    "#plt.ylim([-5,5])\n",
    "plt.grid()\n",
    "plt.scatter(Z[:,0],np.zeros(len(Z)),50,marker='x',color='b')\n",
    "plt.plot(X2[:,0],Y2[:,0],'r.')"
   ]
  },
  {
   "cell_type": "code",
   "execution_count": null,
   "metadata": {},
   "outputs": [],
   "source": [
    "model.kern_list[0]"
   ]
  },
  {
   "cell_type": "code",
   "execution_count": 20,
   "metadata": {},
   "outputs": [
    {
     "data": {
      "text/plain": [
       "array([[ 0.79046261, -0.37661055],\n",
       "       [-0.37661055,  0.17943354]])"
      ]
     },
     "execution_count": 20,
     "metadata": {},
     "output_type": "execute_result"
    }
   ],
   "source": [
    "model.B_q0.B"
   ]
  },
  {
   "cell_type": "code",
   "execution_count": null,
   "metadata": {},
   "outputs": [],
   "source": []
  },
  {
   "cell_type": "code",
   "execution_count": null,
   "metadata": {},
   "outputs": [],
   "source": []
  },
  {
   "cell_type": "code",
   "execution_count": null,
   "metadata": {},
   "outputs": [],
   "source": []
  }
 ],
 "metadata": {
  "kernelspec": {
   "display_name": "Python 3",
   "language": "python",
   "name": "python3"
  },
  "language_info": {
   "codemirror_mode": {
    "name": "ipython",
    "version": 3
   },
   "file_extension": ".py",
   "mimetype": "text/x-python",
   "name": "python",
   "nbconvert_exporter": "python",
   "pygments_lexer": "ipython3",
   "version": "3.6.8"
  }
 },
 "nbformat": 4,
 "nbformat_minor": 2
}
